{
 "cells": [
  {
   "cell_type": "code",
   "execution_count": 1,
   "id": "intermediate-technology",
   "metadata": {},
   "outputs": [],
   "source": [
    "from datetime import datetime, timedelta"
   ]
  },
  {
   "cell_type": "code",
   "execution_count": 2,
   "id": "intended-message",
   "metadata": {},
   "outputs": [],
   "source": [
    "d1 = datetime.now()"
   ]
  },
  {
   "cell_type": "code",
   "execution_count": 3,
   "id": "compatible-television",
   "metadata": {},
   "outputs": [
    {
     "data": {
      "text/plain": [
       "datetime.datetime(2021, 12, 25, 5, 7, 32, 243988)"
      ]
     },
     "execution_count": 3,
     "metadata": {},
     "output_type": "execute_result"
    }
   ],
   "source": [
    "d1"
   ]
  },
  {
   "cell_type": "code",
   "execution_count": 4,
   "id": "experimental-repository",
   "metadata": {},
   "outputs": [],
   "source": [
    "d2 = datetime.now()"
   ]
  },
  {
   "cell_type": "code",
   "execution_count": 5,
   "id": "afraid-driver",
   "metadata": {},
   "outputs": [
    {
     "name": "stdout",
     "output_type": "stream",
     "text": [
      "2\n"
     ]
    }
   ],
   "source": [
    "dt = d2-d1\n",
    "print(int(dt.total_seconds()))"
   ]
  },
  {
   "cell_type": "code",
   "execution_count": null,
   "id": "blind-factor",
   "metadata": {},
   "outputs": [],
   "source": []
  },
  {
   "cell_type": "code",
   "execution_count": null,
   "id": "floating-george",
   "metadata": {},
   "outputs": [],
   "source": []
  },
  {
   "cell_type": "code",
   "execution_count": null,
   "id": "seasonal-inspector",
   "metadata": {},
   "outputs": [],
   "source": []
  },
  {
   "cell_type": "code",
   "execution_count": 6,
   "id": "failing-salem",
   "metadata": {},
   "outputs": [],
   "source": [
    "def field(s,start,size): return s[start:start+size]\n",
    "def Int(s):\n",
    "    return sum(c << (i * 8) for i, c in enumerate(s))"
   ]
  },
  {
   "cell_type": "code",
   "execution_count": 7,
   "id": "turned-childhood",
   "metadata": {},
   "outputs": [
    {
     "ename": "OSError",
     "evalue": "[Errno 5] Input/output error: '\\\\\\\\.\\\\PHYSICALDRIVE0'",
     "output_type": "error",
     "traceback": [
      "\u001b[0;31m---------------------------------------------------------------------------\u001b[0m",
      "\u001b[0;31mOSError\u001b[0m                                   Traceback (most recent call last)",
      "\u001b[0;32m<ipython-input-7-2d1dd5443453>\u001b[0m in \u001b[0;36m<module>\u001b[0;34m\u001b[0m\n\u001b[0;32m----> 1\u001b[0;31m \u001b[0mf\u001b[0m\u001b[0;34m=\u001b[0m\u001b[0mopen\u001b[0m\u001b[0;34m(\u001b[0m\u001b[0;34m'\\\\\\\\.\\\\PHYSICALDRIVE0'\u001b[0m\u001b[0;34m,\u001b[0m\u001b[0;34m'rb'\u001b[0m\u001b[0;34m)\u001b[0m\u001b[0;34m\u001b[0m\u001b[0;34m\u001b[0m\u001b[0m\n\u001b[0m",
      "\u001b[0;31mOSError\u001b[0m: [Errno 5] Input/output error: '\\\\\\\\.\\\\PHYSICALDRIVE0'"
     ]
    }
   ],
   "source": [
    "f=open('\\\\\\\\.\\\\PHYSICALDRIVE0','rb')"
   ]
  },
  {
   "cell_type": "code",
   "execution_count": 3,
   "id": "eight-treaty",
   "metadata": {},
   "outputs": [],
   "source": [
    "mbr =   f.read(512)"
   ]
  },
  {
   "cell_type": "code",
   "execution_count": 4,
   "id": "dying-advocate",
   "metadata": {},
   "outputs": [],
   "source": [
    "part0 = field(mbr,0x1be,16)"
   ]
  },
  {
   "cell_type": "code",
   "execution_count": 5,
   "id": "religious-luxury",
   "metadata": {},
   "outputs": [
    {
     "data": {
      "text/plain": [
       "63"
      ]
     },
     "execution_count": 5,
     "metadata": {},
     "output_type": "execute_result"
    }
   ],
   "source": [
    "Int(field(part0,8,4))"
   ]
  },
  {
   "cell_type": "code",
   "execution_count": 6,
   "id": "provincial-funeral",
   "metadata": {},
   "outputs": [
    {
     "data": {
      "text/plain": [
       "195.30924654006958"
      ]
     },
     "execution_count": 6,
     "metadata": {},
     "output_type": "execute_result"
    }
   ],
   "source": [
    "Int(field(part0,12,4))*512/1024/1024/1024"
   ]
  },
  {
   "cell_type": "code",
   "execution_count": 7,
   "id": "literary-africa",
   "metadata": {},
   "outputs": [
    {
     "data": {
      "text/plain": [
       "195.3093056678772"
      ]
     },
     "execution_count": 7,
     "metadata": {},
     "output_type": "execute_result"
    }
   ],
   "source": [
    "Int(field(field(mbr,0x1be+16,16),8,4))*512/1024/1024/1024"
   ]
  },
  {
   "cell_type": "code",
   "execution_count": 8,
   "id": "muslim-sodium",
   "metadata": {},
   "outputs": [
    {
     "data": {
      "text/plain": [
       "736.2033896446228"
      ]
     },
     "execution_count": 8,
     "metadata": {},
     "output_type": "execute_result"
    }
   ],
   "source": [
    "Int(field(field(mbr,0x1be+16,16),12,4))*512/1024/1024/1024"
   ]
  },
  {
   "cell_type": "code",
   "execution_count": 9,
   "id": "color-savings",
   "metadata": {},
   "outputs": [],
   "source": [
    "def mainPartitions(mbr):\n",
    "    assert field(mbr,0x01FE,2)==b'\\x55\\xaa', 'mbr signature absent'\n",
    "    def p(pe):\n",
    "        status = field(pe,0,1)\n",
    "        type = field(pe,4,1)\n",
    "        return (Int(field(pe,8,4)),Int(field(pe,12,4)),\n",
    "                True if status==b'\\x80' else \n",
    "                False if status==b'\\x00' else status,\n",
    "                'EBR' if type==b'\\x0f' else\n",
    "                'EBR' if type==b'\\x05' else\n",
    "                'NTFS/exFAT' if type==b'\\x07' else\n",
    "                'Linux file system' if type==b'\\x83' else\n",
    "                'Linux swap space' if type==b'\\x82' else\n",
    "                type\n",
    "               )\n",
    "    return (\n",
    "        p(field(mbr,0x1be+16*0,16)),\n",
    "        p(field(mbr,0x1be+16*1,16)),\n",
    "        p(field(mbr,0x1be+16*2,16)),\n",
    "        p(field(mbr,0x1be+16*3,16)),\n",
    "    )"
   ]
  },
  {
   "cell_type": "code",
   "execution_count": 10,
   "id": "addressed-sphere",
   "metadata": {},
   "outputs": [
    {
     "data": {
      "text/plain": [
       "((63, 409593177, True, 'NTFS/exFAT'),\n",
       " (409593301, 1543930411, False, 'EBR'),\n",
       " (0, 0, False, b'\\x00'),\n",
       " (0, 0, False, b'\\x00'))"
      ]
     },
     "execution_count": 10,
     "metadata": {},
     "output_type": "execute_result"
    }
   ],
   "source": [
    "mainPartitions(mbr)"
   ]
  },
  {
   "cell_type": "code",
   "execution_count": 11,
   "id": "irish-petersburg",
   "metadata": {},
   "outputs": [],
   "source": [
    "def getSector(f,i):\n",
    "    f.seek(i*512);\n",
    "    return f.read(512)\n",
    "def logicalPartitions(f,start):\n",
    "    partitions = []\n",
    "    next = start\n",
    "    while next!=-1:\n",
    "        #print(next)\n",
    "        ebr = getSector(f,next)\n",
    "        (part,nn,x,y) = mainPartitions(ebr)\n",
    "        part =  (part[0]+next,*part[1:],part[0])\n",
    "        partitions.append(part)\n",
    "        if nn[1]==0: next = -1\n",
    "        else: next = nn[0]+start\n",
    "    return partitions       \n"
   ]
  },
  {
   "cell_type": "code",
   "execution_count": 12,
   "id": "auburn-palmer",
   "metadata": {},
   "outputs": [
    {
     "data": {
      "text/plain": [
       "[(409593856, 835704832, False, 'NTFS/exFAT', 555),\n",
       " (1245300736, 424314880, False, 'NTFS/exFAT', 2048),\n",
       " (1669632000, 83050496, False, 'Linux file system', 16384),\n",
       " (1752684544, 85016576, False, 'Linux file system', 2048),\n",
       " (1837705216, 111693824, False, 'Linux file system', 4096),\n",
       " (1949403136, 4120576, False, 'Linux swap space', 4096)]"
      ]
     },
     "execution_count": 12,
     "metadata": {},
     "output_type": "execute_result"
    }
   ],
   "source": [
    "logicalPartitions(f,409593301)"
   ]
  },
  {
   "cell_type": "code",
   "execution_count": 13,
   "id": "million-municipality",
   "metadata": {},
   "outputs": [],
   "source": [
    "vbr = getSector(f,409593856)"
   ]
  },
  {
   "cell_type": "code",
   "execution_count": 14,
   "id": "smooth-pioneer",
   "metadata": {},
   "outputs": [
    {
     "data": {
      "text/plain": [
       "b'NTFS    '"
      ]
     },
     "execution_count": 14,
     "metadata": {},
     "output_type": "execute_result"
    }
   ],
   "source": [
    "field(vbr,3,8)"
   ]
  },
  {
   "cell_type": "code",
   "execution_count": 15,
   "id": "neutral-diamond",
   "metadata": {},
   "outputs": [
    {
     "data": {
      "text/plain": [
       "512"
      ]
     },
     "execution_count": 15,
     "metadata": {},
     "output_type": "execute_result"
    }
   ],
   "source": [
    "#Bytes per sector\n",
    "Int(field(vbr,0xb,2))"
   ]
  },
  {
   "cell_type": "code",
   "execution_count": 16,
   "id": "acceptable-gregory",
   "metadata": {},
   "outputs": [
    {
     "data": {
      "text/plain": [
       "8"
      ]
     },
     "execution_count": 16,
     "metadata": {},
     "output_type": "execute_result"
    }
   ],
   "source": [
    "#Sectors Per Cluster\n",
    "Int(field(vbr,0xd,1))"
   ]
  },
  {
   "cell_type": "code",
   "execution_count": 17,
   "id": "collaborative-gender",
   "metadata": {},
   "outputs": [
    {
     "data": {
      "text/plain": [
       "b'\\xf8'"
      ]
     },
     "execution_count": 17,
     "metadata": {},
     "output_type": "execute_result"
    }
   ],
   "source": [
    "#Media Descriptor\n",
    "field(vbr,0x15,1)"
   ]
  },
  {
   "cell_type": "code",
   "execution_count": 18,
   "id": "romance-starter",
   "metadata": {},
   "outputs": [
    {
     "data": {
      "text/plain": [
       "63"
      ]
     },
     "execution_count": 18,
     "metadata": {},
     "output_type": "execute_result"
    }
   ],
   "source": [
    "#Sectors Per Track\n",
    "Int(field(vbr,0x18,2))"
   ]
  },
  {
   "cell_type": "code",
   "execution_count": 19,
   "id": "hidden-optics",
   "metadata": {},
   "outputs": [
    {
     "data": {
      "text/plain": [
       "255"
      ]
     },
     "execution_count": 19,
     "metadata": {},
     "output_type": "execute_result"
    }
   ],
   "source": [
    "#Number Of Heads\n",
    "Int(field(vbr,0x1a,2))"
   ]
  },
  {
   "cell_type": "code",
   "execution_count": 20,
   "id": "prime-lucas",
   "metadata": {},
   "outputs": [
    {
     "data": {
      "text/plain": [
       "555"
      ]
     },
     "execution_count": 20,
     "metadata": {},
     "output_type": "execute_result"
    }
   ],
   "source": [
    "#Hidden Sectors \tThe number of sectors preceding the partition\n",
    "Int(field(vbr,0x1c,4))"
   ]
  },
  {
   "cell_type": "code",
   "execution_count": 21,
   "id": "essential-authorization",
   "metadata": {},
   "outputs": [
    {
     "data": {
      "text/plain": [
       "835704831"
      ]
     },
     "execution_count": 21,
     "metadata": {},
     "output_type": "execute_result"
    }
   ],
   "source": [
    "#Total sectors\n",
    "Int(field(vbr,0x28,8))"
   ]
  },
  {
   "cell_type": "code",
   "execution_count": 22,
   "id": "greater-shield",
   "metadata": {},
   "outputs": [
    {
     "data": {
      "text/plain": [
       "786432"
      ]
     },
     "execution_count": 22,
     "metadata": {},
     "output_type": "execute_result"
    }
   ],
   "source": [
    "#$MFT cluster number\n",
    "Int(field(vbr,0x30,8))"
   ]
  },
  {
   "cell_type": "code",
   "execution_count": 23,
   "id": "dying-asthma",
   "metadata": {},
   "outputs": [
    {
     "data": {
      "text/plain": [
       "2"
      ]
     },
     "execution_count": 23,
     "metadata": {},
     "output_type": "execute_result"
    }
   ],
   "source": [
    "#$MFTMirr cluster number\n",
    "Int(field(vbr,0x38,8))"
   ]
  },
  {
   "cell_type": "code",
   "execution_count": 24,
   "id": "solved-public",
   "metadata": {},
   "outputs": [
    {
     "data": {
      "text/plain": [
       "1024"
      ]
     },
     "execution_count": 24,
     "metadata": {},
     "output_type": "execute_result"
    }
   ],
   "source": [
    "#Bytes or Clusters Per File Record Segment\n",
    "2**(256-Int(field(vbr,0x40,1)))"
   ]
  },
  {
   "cell_type": "code",
   "execution_count": 25,
   "id": "serial-connection",
   "metadata": {},
   "outputs": [
    {
     "data": {
      "text/plain": [
       "1"
      ]
     },
     "execution_count": 25,
     "metadata": {},
     "output_type": "execute_result"
    }
   ],
   "source": [
    "#Bytes or Clusters Per Index Buffer\n",
    "Int(field(vbr,0x44,1))"
   ]
  },
  {
   "cell_type": "code",
   "execution_count": 26,
   "id": "amended-arena",
   "metadata": {},
   "outputs": [
    {
     "data": {
      "text/plain": [
       "b'\\xe8MD\\x82mD\\x82\\xdc'"
      ]
     },
     "execution_count": 26,
     "metadata": {},
     "output_type": "execute_result"
    }
   ],
   "source": [
    "#Volume Serial Number\n",
    "field(vbr,0x48,8)"
   ]
  },
  {
   "cell_type": "code",
   "execution_count": 27,
   "id": "independent-bolivia",
   "metadata": {},
   "outputs": [
    {
     "data": {
      "text/plain": [
       "b'U\\xaa'"
      ]
     },
     "execution_count": 27,
     "metadata": {},
     "output_type": "execute_result"
    }
   ],
   "source": [
    "field(vbr,0x1fe,2)"
   ]
  },
  {
   "cell_type": "code",
   "execution_count": null,
   "id": "floral-mention",
   "metadata": {},
   "outputs": [],
   "source": []
  },
  {
   "cell_type": "code",
   "execution_count": null,
   "id": "growing-humor",
   "metadata": {},
   "outputs": [],
   "source": []
  },
  {
   "cell_type": "code",
   "execution_count": null,
   "id": "handled-member",
   "metadata": {},
   "outputs": [],
   "source": []
  },
  {
   "cell_type": "code",
   "execution_count": null,
   "id": "national-personal",
   "metadata": {},
   "outputs": [],
   "source": []
  }
 ],
 "metadata": {
  "kernelspec": {
   "display_name": "Python 3",
   "language": "python",
   "name": "python3"
  },
  "language_info": {
   "codemirror_mode": {
    "name": "ipython",
    "version": 3
   },
   "file_extension": ".py",
   "mimetype": "text/x-python",
   "name": "python",
   "nbconvert_exporter": "python",
   "pygments_lexer": "ipython3",
   "version": "3.8.10"
  }
 },
 "nbformat": 4,
 "nbformat_minor": 5
}
