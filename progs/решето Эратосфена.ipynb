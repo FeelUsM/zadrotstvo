{
 "cells": [
  {
   "cell_type": "code",
   "execution_count": 255,
   "id": "former-sydney",
   "metadata": {},
   "outputs": [],
   "source": [
    "real_simple = [2 ,3 ,5 ,7 ,11 ,13 ,17 ,19 ,23 ,29 ,31 ,37 ,41 ,43 ,47 ,53 ,59 ,61 ,67 ,71,\n",
    "73 ,79 ,83 ,89 ,97 ,101 ,103 ,107 ,109 ,113 ,127 ,131 ,137 ,139 ,149 ,151 ,157 ,163 ,167 ,173,\n",
    "179 ,181 ,191 ,193 ,197 ,199 ,211 ,223 ,227 ,229 ,233 ,239 ,241 ,251 ,257 ,263 ,269 ,271 ,277 ,281,\n",
    "283 ,293 ,307 ,311 ,313 ,317 ,331 ,337 ,347 ,349 ,353 ,359 ,367 ,373 ,379 ,383 ,389 ,397 ,401 ,409,\n",
    "419 ,421 ,431 ,433 ,439 ,443 ,449 ,457 ,461 ,463 ,467 ,479 ,487 ,491 ,499 ,503 ,509 ,521 ,523 ,541,\n",
    "547 ,557 ,563 ,569 ,571 ,577 ,587 ,593 ,599 ,601 ,607 ,613 ,617 ,619 ,631 ,641 ,643 ,647 ,653 ,659,\n",
    "661 ,673 ,677 ,683 ,691 ,701 ,709 ,719 ,727 ,733 ,739 ,743 ,751 ,757 ,761 ,769 ,773 ,787 ,797 ,809,\n",
    "811 ,821 ,823 ,827 ,829 ,839 ,853 ,857 ,859 ,863 ,877 ,881 ,883 ,887 ,907 ,911 ,919 ,929 ,937 ,941,\n",
    "947 ,953 ,967 ,971 ,977 ,983 ,991 ,997 ,1009 ,1013 ,1019 ,1021 ,1031 ,1033 ,1039 ,1049 ,1051 ,1061 ,1063 ,1069,\n",
    "1087 ,1091 ,1093 ,1097 ,1103 ,1109 ,1117 ,1123 ,1129 ,1151 ,1153 ,1163 ,1171 ,1181 ,1187 ,1193 ,1201 ,1213 ,1217 ,1223,\n",
    "1229 ,1231 ,1237 ,1249 ,1259 ,1277 ,1279 ,1283 ,1289 ,1291 ,1297 ,1301 ,1303 ,1307 ,1319 ,1321 ,1327 ,1361 ,1367 ,1373,\n",
    "1381 ,1399 ,1409 ,1423 ,1427 ,1429 ,1433 ,1439 ,1447 ,1451 ,1453 ,1459 ,1471 ,1481 ,1483 ,1487 ,1489 ,1493 ,1499 ,1511,\n",
    "1523 ,1531 ,1543 ,1549 ,1553 ,1559 ,1567 ,1571 ,1579 ,1583 ,1597 ,1601 ,1607 ,1609 ,1613 ,1619 ,1621 ,1627 ,1637 ,1657,\n",
    "1663 ,1667 ,1669 ,1693 ,1697 ,1699 ,1709 ,1721 ,1723 ,1733 ,1741 ,1747 ,1753 ,1759 ,1777 ,1783 ,1787 ,1789 ,1801 ,1811,\n",
    "1823 ,1831 ,1847 ,1861 ,1867 ,1871 ,1873 ,1877 ,1879 ,1889 ,1901 ,1907 ,1913 ,1931 ,1933 ,1949 ,1951 ,1973 ,1979 ,1987,\n",
    "1993 ,1997 ,1999 ,2003 ,2011 ,2017 ,2027 ,2029 ,2039 ,2053 ,2063 ,2069 ,2081 ,2083 ,2087 ,2089 ,2099 ,2111 ,2113 ,2129,\n",
    "2131 ,2137 ,2141 ,2143 ,2153 ,2161 ,2179 ,2203 ,2207 ,2213 ,2221 ,2237 ,2239 ,2243 ,2251 ,2267 ,2269 ,2273 ,2281 ,2287,\n",
    "2293 ,2297 ,2309 ,2311 ,2333 ,2339 ,2341 ,2347 ,2351 ,2357 ,2371 ,2377 ,2381 ,2383 ,2389 ,2393 ,2399 ,2411 ,2417 ,2423,\n",
    "2437 ,2441 ,2447 ,2459 ,2467 ,2473 ,2477 ,2503 ,2521 ,2531 ,2539 ,2543 ,2549 ,2551 ,2557 ,2579 ,2591 ,2593 ,2609 ,2617,\n",
    "2621 ,2633 ,2647 ,2657 ,2659 ,2663 ,2671 ,2677 ,2683 ,2687 ,2689 ,2693 ,2699 ,2707 ,2711 ,2713 ,2719 ,2729 ,2731 ,2741,\n",
    "2749 ,2753 ,2767 ,2777 ,2789 ,2791 ,2797 ,2801 ,2803 ,2819 ,2833 ,2837 ,2843 ,2851 ,2857 ,2861 ,2879 ,2887 ,2897 ,2903,\n",
    "2909 ,2917 ,2927 ,2939 ,2953 ,2957 ,2963 ,2969 ,2971 ,2999 ,3001 ,3011 ,3019 ,3023 ,3037 ,3041 ,3049 ,3061 ,3067 ,3079,\n",
    "3083 ,3089 ,3109 ,3119 ,3121 ,3137 ,3163 ,3167 ,3169 ,3181 ,3187 ,3191 ,3203 ,3209 ,3217 ,3221 ,3229 ,3251 ,3253 ,3257,\n",
    "3259 ,3271 ,3299 ,3301 ,3307 ,3313 ,3319 ,3323 ,3329 ,3331 ,3343 ,3347 ,3359 ,3361 ,3371 ,3373 ,3389 ,3391 ,3407 ,3413,\n",
    "3433 ,3449 ,3457 ,3461 ,3463 ,3467 ,3469 ,3491 ,3499 ,3511 ,3517 ,3527 ,3529 ,3533 ,3539 ,3541 ,3547 ,3557 ,3559 ,3571,]"
   ]
  },
  {
   "cell_type": "code",
   "execution_count": 258,
   "id": "numerous-photographer",
   "metadata": {},
   "outputs": [],
   "source": [
    "def check(a1,a2):\n",
    "    print([x for x in a1 if x not in a2])\n",
    "    print([x for x in a2 if x not in a1])\n",
    "    "
   ]
  },
  {
   "cell_type": "code",
   "execution_count": 190,
   "id": "decreased-backing",
   "metadata": {},
   "outputs": [
    {
     "ename": "IndentationError",
     "evalue": "unexpected indent (<ipython-input-190-c98027c165bc>, line 6)",
     "output_type": "error",
     "traceback": [
      "\u001b[1;36m  File \u001b[1;32m\"<ipython-input-190-c98027c165bc>\"\u001b[1;36m, line \u001b[1;32m6\u001b[0m\n\u001b[1;33m    a7  #  простые кроме 2,3,5,7    до 2*3*5*7    // 121\u001b[0m\n\u001b[1;37m    ^\u001b[0m\n\u001b[1;31mIndentationError\u001b[0m\u001b[1;31m:\u001b[0m unexpected indent\n"
     ]
    }
   ],
   "source": [
    "a2k  # =            x      и не делятся на 2  до 2\n",
    "a3k  # = 2         *x+a2k  и не делятся на 3  до 2*3           =6\n",
    "a5k  # = 2*3       *x+a3k  и не делятся на 5  до 2*3*5         = 30\n",
    "        #                                         //49\n",
    "a7k  # = 2*3*5     *x+a5k  и не делятся на 7  до 2*3*5*7       = 210\n",
    "    a7  #  простые кроме 2,3,5,7    до 2*3*5*7    // 121\n",
    "a11k # = 2*3*5*7   *x+a7k  и не делятся на 11 до 2*3*5*7*11    = 2310\n",
    "    a11 #  простые кроме 2,3,5,7,11 до 2*3*5*7*11 // 169\n",
    "a13k # = 2*3*5*7*11*x+a11k и не делятся на 13 до 2*3*5*7*11*13 = 30030\n",
    "    a13 #  простые кроме 2,3,5,7,11 до 2*3*5*7*11 // 289\n"
   ]
  },
  {
   "cell_type": "code",
   "execution_count": 242,
   "id": "different-miniature",
   "metadata": {},
   "outputs": [],
   "source": [
    "def printTable(a,w,s,sep='\\t'):\n",
    "    assert s<w\n",
    "    for i in range(s):\n",
    "        print(sep,end='')\n",
    "    for i in range(w-s):\n",
    "        print(a[i],end=sep)\n",
    "    print()\n",
    "    nl = (len(a)+s)//w-1\n",
    "    #print(nl,len(a))\n",
    "    for i in range(nl):\n",
    "        for j in range(w):\n",
    "            print(a[j+i*w+w-s],end=sep)\n",
    "        print()\n",
    "    for i in range(nl*w+w-s,len(a)):\n",
    "        print(a[i],end=sep)\n",
    "    "
   ]
  },
  {
   "cell_type": "markdown",
   "id": "disturbed-collector",
   "metadata": {},
   "source": [
    "# 2"
   ]
  },
  {
   "cell_type": "code",
   "execution_count": 193,
   "id": "latin-difficulty",
   "metadata": {},
   "outputs": [
    {
     "data": {
      "text/plain": [
       "[2]"
      ]
     },
     "execution_count": 193,
     "metadata": {},
     "output_type": "execute_result"
    }
   ],
   "source": [
    "del2k = [2]\n",
    "del2k"
   ]
  },
  {
   "cell_type": "code",
   "execution_count": 195,
   "id": "married-analysis",
   "metadata": {},
   "outputs": [
    {
     "data": {
      "text/plain": [
       "[1]"
      ]
     },
     "execution_count": 195,
     "metadata": {},
     "output_type": "execute_result"
    }
   ],
   "source": [
    "a2k = [x for x in range(1,3) if x not in del2k]\n",
    "a2k"
   ]
  },
  {
   "cell_type": "markdown",
   "id": "living-drilling",
   "metadata": {},
   "source": [
    "# 3"
   ]
  },
  {
   "cell_type": "code",
   "execution_count": 203,
   "id": "oriental-mobile",
   "metadata": {},
   "outputs": [
    {
     "data": {
      "text/plain": [
       "6"
      ]
     },
     "execution_count": 203,
     "metadata": {},
     "output_type": "execute_result"
    }
   ],
   "source": [
    "stop3 = 2*3\n",
    "stop3"
   ]
  },
  {
   "cell_type": "code",
   "execution_count": 197,
   "id": "comprehensive-transition",
   "metadata": {},
   "outputs": [
    {
     "data": {
      "text/plain": [
       "[3]"
      ]
     },
     "execution_count": 197,
     "metadata": {},
     "output_type": "execute_result"
    }
   ],
   "source": [
    "del3k = [3]\n",
    "del3k"
   ]
  },
  {
   "cell_type": "code",
   "execution_count": 202,
   "id": "demonstrated-inside",
   "metadata": {},
   "outputs": [
    {
     "data": {
      "text/plain": [
       "[1, 5]"
      ]
     },
     "execution_count": 202,
     "metadata": {},
     "output_type": "execute_result"
    }
   ],
   "source": [
    "a3k = [2*x+q for x in range(3) for q in a2k if 2*x+q not in del3k]\n",
    "a3k"
   ]
  },
  {
   "cell_type": "markdown",
   "id": "behavioral-ideal",
   "metadata": {},
   "source": [
    "# 5"
   ]
  },
  {
   "cell_type": "code",
   "execution_count": 208,
   "id": "little-biology",
   "metadata": {},
   "outputs": [
    {
     "data": {
      "text/plain": [
       "30"
      ]
     },
     "execution_count": 208,
     "metadata": {},
     "output_type": "execute_result"
    }
   ],
   "source": [
    "stop5 = 2*3*5\n",
    "stop5"
   ]
  },
  {
   "cell_type": "code",
   "execution_count": 204,
   "id": "departmental-power",
   "metadata": {},
   "outputs": [
    {
     "data": {
      "text/plain": [
       "[5, 25]"
      ]
     },
     "execution_count": 204,
     "metadata": {},
     "output_type": "execute_result"
    }
   ],
   "source": [
    "del5k = [5,25]\n",
    "del5k"
   ]
  },
  {
   "cell_type": "code",
   "execution_count": 206,
   "id": "civil-trouble",
   "metadata": {},
   "outputs": [
    {
     "data": {
      "text/plain": [
       "[1, 7, 11, 13, 17, 19, 23, 29]"
      ]
     },
     "execution_count": 206,
     "metadata": {},
     "output_type": "execute_result"
    }
   ],
   "source": [
    "a5k = [stop3*x+q for x in range(5) for q in a3k if stop3*x+q not in del5k]\n",
    "a5k"
   ]
  },
  {
   "cell_type": "markdown",
   "id": "classified-arctic",
   "metadata": {},
   "source": [
    "# 7"
   ]
  },
  {
   "cell_type": "code",
   "execution_count": 209,
   "id": "contemporary-arthritis",
   "metadata": {},
   "outputs": [
    {
     "data": {
      "text/plain": [
       "210"
      ]
     },
     "execution_count": 209,
     "metadata": {},
     "output_type": "execute_result"
    }
   ],
   "source": [
    "stop7 = stop5*7\n",
    "stop7"
   ]
  },
  {
   "cell_type": "code",
   "execution_count": 211,
   "id": "swedish-masters",
   "metadata": {},
   "outputs": [
    {
     "data": {
      "text/plain": [
       "343"
      ]
     },
     "execution_count": 211,
     "metadata": {},
     "output_type": "execute_result"
    }
   ],
   "source": [
    "7**3"
   ]
  },
  {
   "cell_type": "code",
   "execution_count": 213,
   "id": "international-local",
   "metadata": {},
   "outputs": [
    {
     "data": {
      "text/plain": [
       "203"
      ]
     },
     "execution_count": 213,
     "metadata": {},
     "output_type": "execute_result"
    }
   ],
   "source": [
    "7*29"
   ]
  },
  {
   "cell_type": "code",
   "execution_count": 239,
   "id": "laden-immigration",
   "metadata": {},
   "outputs": [
    {
     "data": {
      "text/plain": [
       "[7, 49, 77, 91, 119, 133, 161, 203]"
      ]
     },
     "execution_count": 239,
     "metadata": {},
     "output_type": "execute_result"
    }
   ],
   "source": [
    "del7k = [7*x for x in a5k]\n",
    "del7k"
   ]
  },
  {
   "cell_type": "code",
   "execution_count": 254,
   "id": "preliminary-doubt",
   "metadata": {},
   "outputs": [
    {
     "name": "stdout",
     "output_type": "stream",
     "text": [
      "\t\t\t1\t11\t13\t17\t19\t23\t29\t\n",
      "31\t37\t41\t43\t47\t53\t59\t61\t67\t71\t\n",
      "73\t79\t83\t89\t97\t101\t103\t107\t109\t113\t\n",
      "121\t127\t131\t137\t139\t143\t149\t151\t157\t163\t\n",
      "167\t169\t173\t179\t181\t187\t191\t193\t197\t199\t\n",
      "209\t"
     ]
    }
   ],
   "source": [
    "a7k = [stop5*x+q for x in range(7) for q in a5k if stop5*x+q not in del7k]\n",
    "printTable(a7k,10,3)"
   ]
  },
  {
   "cell_type": "code",
   "execution_count": 260,
   "id": "derived-scratch",
   "metadata": {
    "scrolled": true
   },
   "outputs": [
    {
     "name": "stdout",
     "output_type": "stream",
     "text": [
      "[1, 121, 143, 169, 187, 209]\n",
      "[2, 3, 5, 7, 211, 223]\n"
     ]
    }
   ],
   "source": [
    "check(a7k,real_simple[:len(a7k)])"
   ]
  },
  {
   "cell_type": "markdown",
   "id": "legal-rabbit",
   "metadata": {},
   "source": [
    "# 11"
   ]
  },
  {
   "cell_type": "code",
   "execution_count": 243,
   "id": "juvenile-renewal",
   "metadata": {},
   "outputs": [
    {
     "data": {
      "text/plain": [
       "2310"
      ]
     },
     "execution_count": 243,
     "metadata": {},
     "output_type": "execute_result"
    }
   ],
   "source": [
    "stop11 = stop7*11\n",
    "stop11"
   ]
  },
  {
   "cell_type": "code",
   "execution_count": 244,
   "id": "jewish-switzerland",
   "metadata": {},
   "outputs": [
    {
     "data": {
      "text/plain": [
       "1331"
      ]
     },
     "execution_count": 244,
     "metadata": {},
     "output_type": "execute_result"
    }
   ],
   "source": [
    "11**3"
   ]
  },
  {
   "cell_type": "code",
   "execution_count": 213,
   "id": "coastal-arabic",
   "metadata": {},
   "outputs": [
    {
     "data": {
      "text/plain": [
       "203"
      ]
     },
     "execution_count": 213,
     "metadata": {},
     "output_type": "execute_result"
    }
   ],
   "source": [
    "7*29"
   ]
  },
  {
   "cell_type": "code",
   "execution_count": 264,
   "id": "second-correspondence",
   "metadata": {},
   "outputs": [
    {
     "name": "stdout",
     "output_type": "stream",
     "text": [
      "[11, 121, 143, 187, 209, 253, 319, 341, 407, 451, 473, 517, 583, 649, 671]\n",
      "[1639, 1661, 1727, 1793, 1837, 1859, 1903, 1969, 1991, 2057, 2101, 2123, 2167, 2189, 2299]\n"
     ]
    }
   ],
   "source": [
    "del11k = [11*x for x in a7k]\n",
    "print(del11k[:15])\n",
    "print(del11k[-15:])\n"
   ]
  },
  {
   "cell_type": "code",
   "execution_count": 271,
   "id": "progressive-decision",
   "metadata": {
    "scrolled": true
   },
   "outputs": [
    {
     "name": "stdout",
     "output_type": "stream",
     "text": [
      "480\n",
      "1\t13\t17\t19\t23\t29\t31\t37\t41\t43\t\n",
      "47\t53\t59\t61\t67\t71\t73\t79\t83\t89\t\n",
      "97\t101\t103\t107\t109\t113\t127\t131\t137\t139\t\n",
      "149\t151\t157\t163\t167\t169\t173\t179\t181\t191\t\n",
      "193\t197\t199\t211\t221\t223\t227\t229\t233\t239\t\n",
      "\n",
      "2071\t2077\t2081\t2083\t2087\t2089\t2099\t2111\t2113\t2117\t\n",
      "2119\t2129\t2131\t2137\t2141\t2143\t2147\t2153\t2159\t2161\t\n",
      "2171\t2173\t2179\t2183\t2197\t2201\t2203\t2207\t2209\t2213\t\n",
      "2221\t2227\t2231\t2237\t2239\t2243\t2249\t2251\t2257\t2263\t\n",
      "2267\t2269\t2273\t2279\t2281\t2287\t2291\t2293\t2297\t2309\t\n"
     ]
    }
   ],
   "source": [
    "a11k = [stop7*x+q for x in range(11) for q in a7k if stop7*x+q not in del11k]\n",
    "print(len(a11k))\n",
    "printTable(a11k[:50],10,0)\n",
    "print()\n",
    "printTable(a11k[-50:],10,0)"
   ]
  },
  {
   "cell_type": "code",
   "execution_count": 266,
   "id": "anonymous-broadway",
   "metadata": {
    "scrolled": true
   },
   "outputs": [
    {
     "name": "stdout",
     "output_type": "stream",
     "text": [
      "[1, 169, 221, 247, 289, 299, 323, 361, 377, 391, 403, 437, 481, 493, 527, 529, 533, 551, 559, 589, 611, 629, 667, 689, 697, 703, 713, 731, 767, 779, 793, 799, 817, 841, 851, 871, 893, 899, 901, 923, 943, 949, 961, 989, 1003, 1007, 1027, 1037, 1073, 1079, 1081, 1121, 1139, 1147, 1157, 1159, 1189, 1207, 1219, 1241, 1247, 1261, 1271, 1273, 1313, 1333, 1339, 1343, 1349, 1357, 1363, 1369, 1387, 1391, 1403, 1411, 1417, 1457, 1469, 1501, 1513, 1517, 1537, 1541, 1577, 1591, 1633, 1643, 1649, 1651, 1679, 1681, 1691, 1703, 1711, 1717, 1739, 1751, 1763, 1769, 1781, 1807, 1817, 1819, 1829, 1843, 1849, 1853, 1891, 1909, 1919, 1921, 1927, 1937, 1943, 1957, 1961, 1963, 2021, 2033, 2041, 2047, 2059, 2071, 2077, 2117, 2119, 2147, 2159, 2171, 2173, 2183, 2197, 2201, 2209, 2227, 2231, 2249, 2257, 2263, 2279, 2291]\n",
      "[2, 3, 5, 7, 11, 2311, 2333, 2339, 2341, 2347, 2351, 2357, 2371, 2377, 2381, 2383, 2389, 2393, 2399, 2411, 2417, 2423, 2437, 2441, 2447, 2459, 2467, 2473, 2477, 2503, 2521, 2531, 2539, 2543, 2549, 2551, 2557, 2579, 2591, 2593, 2609, 2617, 2621, 2633, 2647, 2657, 2659, 2663, 2671, 2677, 2683, 2687, 2689, 2693, 2699, 2707, 2711, 2713, 2719, 2729, 2731, 2741, 2749, 2753, 2767, 2777, 2789, 2791, 2797, 2801, 2803, 2819, 2833, 2837, 2843, 2851, 2857, 2861, 2879, 2887, 2897, 2903, 2909, 2917, 2927, 2939, 2953, 2957, 2963, 2969, 2971, 2999, 3001, 3011, 3019, 3023, 3037, 3041, 3049, 3061, 3067, 3079, 3083, 3089, 3109, 3119, 3121, 3137, 3163, 3167, 3169, 3181, 3187, 3191, 3203, 3209, 3217, 3221, 3229, 3251, 3253, 3257, 3259, 3271, 3299, 3301, 3307, 3313, 3319, 3323, 3329, 3331, 3343, 3347, 3359, 3361, 3371, 3373, 3389, 3391, 3407, 3413]\n"
     ]
    }
   ],
   "source": [
    "check(a11k,real_simple[:len(a11k)])"
   ]
  },
  {
   "cell_type": "code",
   "execution_count": 280,
   "id": "heavy-session",
   "metadata": {},
   "outputs": [],
   "source": [
    "del11_13 = {13*x for x in a7k[2:] if 13*x<stop11}\n"
   ]
  },
  {
   "cell_type": "code",
   "execution_count": 286,
   "id": "boxed-monitoring",
   "metadata": {},
   "outputs": [
    {
     "name": "stdout",
     "output_type": "stream",
     "text": [
      "27 set()\n"
     ]
    }
   ],
   "source": [
    "del11_17 = {17*x for x in a7k[3:] if 17*x<stop11}\n",
    "print(len(del11_17),del11_17&del11_13)"
   ]
  },
  {
   "cell_type": "code",
   "execution_count": 287,
   "id": "split-victim",
   "metadata": {},
   "outputs": [
    {
     "name": "stdout",
     "output_type": "stream",
     "text": [
      "24 set() set()\n"
     ]
    }
   ],
   "source": [
    "del11_19 = {19*x for x in a7k[4:] if 19*x<stop11}\n",
    "print(len(del11_19),del11_19&del11_13,del11_19&del11_17)"
   ]
  },
  {
   "cell_type": "code",
   "execution_count": 288,
   "id": "hired-therapist",
   "metadata": {},
   "outputs": [
    {
     "name": "stdout",
     "output_type": "stream",
     "text": [
      "17 set() set() set()\n"
     ]
    }
   ],
   "source": [
    "del11_23 = {23*x for x in a7k[5:] if 23*x<stop11}\n",
    "print(len(del11_23),del11_23&del11_13,del11_23&del11_17,del11_23&del11_19)"
   ]
  },
  {
   "cell_type": "code",
   "execution_count": 282,
   "id": "loving-barbados",
   "metadata": {},
   "outputs": [
    {
     "data": {
      "text/plain": [
       "set()"
      ]
     },
     "execution_count": 282,
     "metadata": {},
     "output_type": "execute_result"
    }
   ],
   "source": [
    "del11_13&del11_17"
   ]
  },
  {
   "cell_type": "code",
   "execution_count": 289,
   "id": "precious-status",
   "metadata": {},
   "outputs": [
    {
     "data": {
      "text/plain": [
       "145"
      ]
     },
     "execution_count": 289,
     "metadata": {},
     "output_type": "execute_result"
    }
   ],
   "source": [
    "del11 = set()\n",
    "for i in range(2,len(a7k)):\n",
    "    cur_del ={a7k[i]*x for x in a7k[i:] if a7k[i]*x<stop11}\n",
    "    if len(cur_del)==0: break\n",
    "    if(cur_del & del11):\n",
    "        print(i,a7k[i],cur_del & del11)\n",
    "    del11|=cur_del\n",
    "len(del11)        "
   ]
  },
  {
   "cell_type": "code",
   "execution_count": 292,
   "id": "crazy-greece",
   "metadata": {},
   "outputs": [
    {
     "name": "stdout",
     "output_type": "stream",
     "text": [
      "[2057, 1573, 1859, 2299]\n"
     ]
    }
   ],
   "source": [
    "print([x for x in del11 if x not in a11k])"
   ]
  },
  {
   "cell_type": "code",
   "execution_count": 294,
   "id": "indoor-realtor",
   "metadata": {},
   "outputs": [
    {
     "name": "stdout",
     "output_type": "stream",
     "text": [
      "339\n",
      "\t\t\t\t1\t13\t17\t19\t23\t29\t\n",
      "31\t37\t41\t43\t47\t53\t59\t61\t67\t71\t\n",
      "73\t79\t83\t89\t97\t101\t103\t107\t109\t113\t\n",
      "127\t131\t137\t139\t149\t151\t157\t163\t167\t173\t\n",
      "179\t181\t191\t193\t197\t199\t211\t223\t227\t229\t\n",
      "233\t239\t241\t251\t\n",
      "1931\t1933\t1949\t1951\t1973\t1979\t1987\t1993\t1997\t1999\t\n",
      "2003\t2011\t2017\t2027\t2029\t2039\t2053\t2063\t2069\t2081\t\n",
      "2083\t2087\t2089\t2099\t2111\t2113\t2129\t2131\t2137\t2141\t\n",
      "2143\t2153\t2161\t2179\t2203\t2207\t2213\t2221\t2237\t2239\t\n",
      "2243\t2251\t2267\t2269\t2273\t2281\t2287\t2293\t2297\t2309\t\n"
     ]
    }
   ],
   "source": [
    "a11 = [x for x in a11k if x not in del11]\n",
    "print(len(a11))\n",
    "printTable(a11[:50],10,4)\n",
    "print()\n",
    "printTable(a11[-50:],10,0)"
   ]
  },
  {
   "cell_type": "code",
   "execution_count": 291,
   "id": "collect-doctrine",
   "metadata": {},
   "outputs": [
    {
     "name": "stdout",
     "output_type": "stream",
     "text": [
      "[1, 2287, 2293, 2297, 2309]\n",
      "[2, 3, 5, 7, 11]\n"
     ]
    }
   ],
   "source": [
    "check(a11,real_simple[:len(a11)])"
   ]
  },
  {
   "cell_type": "code",
   "execution_count": null,
   "id": "copyrighted-allah",
   "metadata": {},
   "outputs": [],
   "source": []
  },
  {
   "cell_type": "markdown",
   "id": "offshore-circulation",
   "metadata": {},
   "source": [
    "# 13"
   ]
  },
  {
   "cell_type": "code",
   "execution_count": 295,
   "id": "available-authentication",
   "metadata": {},
   "outputs": [
    {
     "data": {
      "text/plain": [
       "30030"
      ]
     },
     "execution_count": 295,
     "metadata": {},
     "output_type": "execute_result"
    }
   ],
   "source": [
    "stop13 = stop11*13\n",
    "stop13"
   ]
  },
  {
   "cell_type": "code",
   "execution_count": 296,
   "id": "chubby-decision",
   "metadata": {},
   "outputs": [
    {
     "name": "stdout",
     "output_type": "stream",
     "text": [
      "[13, 169, 221, 247, 299, 377, 403, 481, 533, 559, 611, 689, 767, 793, 871]\n",
      "[29159, 29237, 29263, 29341, 29419, 29471, 29497, 29549, 29627, 29653, 29731, 29783, 29809, 29861, 30017]\n"
     ]
    }
   ],
   "source": [
    "del13k = [13*x for x in a11k]\n",
    "print(del13k[:15])\n",
    "print(del13k[-15:])\n"
   ]
  },
  {
   "cell_type": "code",
   "execution_count": 302,
   "id": "brutal-owner",
   "metadata": {
    "scrolled": true
   },
   "outputs": [
    {
     "name": "stdout",
     "output_type": "stream",
     "text": [
      "5760\n",
      "1\t17\t19\t23\t29\t31\t37\t41\t43\t47\t\n",
      "53\t59\t61\t67\t71\t73\t79\t83\t89\t97\t\n",
      "101\t103\t107\t109\t113\t127\t131\t137\t139\t149\t\n",
      "151\t157\t163\t167\t173\t179\t181\t191\t193\t197\t\n",
      "199\t211\t223\t227\t229\t233\t239\t241\t251\t257\t\n",
      "\n",
      "29773\t29779\t29789\t29791\t29797\t29801\t29803\t29807\t29819\t29831\t\n",
      "29833\t29837\t29839\t29849\t29851\t29857\t29863\t29867\t29873\t29879\t\n",
      "29881\t29891\t29893\t29899\t29903\t29917\t29921\t29923\t29927\t29929\t\n",
      "29933\t29941\t29947\t29951\t29957\t29959\t29963\t29969\t29971\t29977\t\n",
      "29983\t29987\t29989\t29993\t29999\t30001\t30007\t30011\t30013\t30029\t\n"
     ]
    }
   ],
   "source": [
    "a13k = [stop11*x+q for x in range(13) for q in a11k if stop11*x+q not in del13k]\n",
    "print(len(a13k))\n",
    "printTable(a13k[:50],10,0)\n",
    "print()\n",
    "printTable(a13k[-50:],10,0)"
   ]
  },
  {
   "cell_type": "code",
   "execution_count": 314,
   "id": "corporate-reasoning",
   "metadata": {},
   "outputs": [
    {
     "name": "stdout",
     "output_type": "stream",
     "text": [
      "294\n"
     ]
    },
    {
     "data": {
      "text/plain": [
       "2657"
      ]
     },
     "execution_count": 314,
     "metadata": {},
     "output_type": "execute_result"
    }
   ],
   "source": [
    "del13 = {}\n",
    "cnt = 0\n",
    "for i in range(2,len(a11k)):\n",
    "    if a11k[i]**2>=stop13:\n",
    "        break\n",
    "    for x in a11k[i:]:\n",
    "        if a11k[i]*x>=stop13:\n",
    "            break\n",
    "        n = a11k[i]*x\n",
    "        if(n in del13):\n",
    "            # print(i,a11k[i],x,n,del13[n])\n",
    "            cnt+=1\n",
    "        del13[a11k[i]*x] = (a11k[i],x)\n",
    "print(cnt)\n",
    "len(del13)        "
   ]
  },
  {
   "cell_type": "code",
   "execution_count": 308,
   "id": "pending-redhead",
   "metadata": {},
   "outputs": [
    {
     "name": "stdout",
     "output_type": "stream",
     "text": [
      "140\n"
     ]
    }
   ],
   "source": [
    "print(len([x for x in del13 if x not in a13k]))"
   ]
  },
  {
   "cell_type": "code",
   "execution_count": 305,
   "id": "amateur-motor",
   "metadata": {},
   "outputs": [
    {
     "name": "stdout",
     "output_type": "stream",
     "text": [
      "3243\n",
      "\t\t\t\t1\t17\t19\t23\t29\t31\t\n",
      "37\t41\t43\t47\t53\t59\t61\t67\t71\t73\t\n",
      "79\t83\t89\t97\t101\t103\t107\t109\t113\t127\t\n",
      "131\t137\t139\t149\t151\t157\t163\t167\t173\t179\t\n",
      "181\t191\t193\t197\t199\t211\t223\t227\t229\t233\t\n",
      "239\t241\t251\t257\t\n",
      "29437\t29443\t29453\t29473\t29483\t29501\t29527\t29531\t29537\t29567\t\n",
      "29569\t29573\t29581\t29587\t29599\t29611\t29629\t29633\t29641\t29663\t\n",
      "29669\t29671\t29683\t29717\t29723\t29741\t29753\t29759\t29761\t29789\t\n",
      "29803\t29819\t29833\t29837\t29851\t29863\t29867\t29873\t29879\t29881\t\n",
      "29917\t29921\t29927\t29947\t29959\t29983\t29989\t30011\t30013\t30029\t\n"
     ]
    }
   ],
   "source": [
    "a13 = [x for x in a13k if x not in del13]\n",
    "print(len(a13))\n",
    "printTable(a13[:50],10,4)\n",
    "print()\n",
    "printTable(a13[-50:],10,0)"
   ]
  },
  {
   "cell_type": "code",
   "execution_count": 306,
   "id": "abstract-approval",
   "metadata": {},
   "outputs": [
    {
     "name": "stdout",
     "output_type": "stream",
     "text": [
      "[1, 3581, 3583, 3593, 3607, 3613]\n",
      "[2, 3, 5, 7, 11, 13]\n"
     ]
    }
   ],
   "source": [
    "check(a13[:len(real_simple)],real_simple)"
   ]
  },
  {
   "cell_type": "code",
   "execution_count": null,
   "id": "universal-pencil",
   "metadata": {},
   "outputs": [],
   "source": []
  },
  {
   "cell_type": "markdown",
   "id": "automotive-edition",
   "metadata": {},
   "source": [
    "# 17"
   ]
  },
  {
   "cell_type": "code",
   "execution_count": 330,
   "id": "level-citation",
   "metadata": {},
   "outputs": [
    {
     "data": {
      "text/plain": [
       "510510"
      ]
     },
     "execution_count": 330,
     "metadata": {},
     "output_type": "execute_result"
    }
   ],
   "source": [
    "stop17 = stop13*17\n",
    "stop17"
   ]
  },
  {
   "cell_type": "code",
   "execution_count": 331,
   "id": "rough-religion",
   "metadata": {},
   "outputs": [
    {
     "name": "stdout",
     "output_type": "stream",
     "text": [
      "5760\n"
     ]
    }
   ],
   "source": [
    "del17k = {17*x for x in a13k}\n",
    "#print(del17k[:15])\n",
    "#print(del17k[-15:])\n",
    "print(len(del17k))"
   ]
  },
  {
   "cell_type": "code",
   "execution_count": 332,
   "id": "attended-surname",
   "metadata": {
    "scrolled": true
   },
   "outputs": [
    {
     "name": "stdout",
     "output_type": "stream",
     "text": [
      "92160\n",
      "1\t19\t23\t29\t31\t37\t41\t43\t47\t53\t\n",
      "59\t61\t67\t71\t73\t79\t83\t89\t97\t101\t\n",
      "103\t107\t109\t113\t127\t131\t137\t139\t149\t151\t\n",
      "157\t163\t167\t173\t179\t181\t191\t193\t197\t199\t\n",
      "211\t223\t227\t229\t233\t239\t241\t251\t257\t263\t\n",
      "\n",
      "510247\t510253\t510259\t510269\t510271\t510277\t510281\t510283\t510287\t510299\t\n",
      "510311\t510313\t510317\t510319\t510329\t510331\t510337\t510343\t510347\t510353\t\n",
      "510359\t510361\t510371\t510373\t510379\t510383\t510397\t510401\t510403\t510407\t\n",
      "510409\t510413\t510421\t510427\t510431\t510437\t510439\t510443\t510449\t510451\t\n",
      "510457\t510463\t510467\t510469\t510473\t510479\t510481\t510487\t510491\t510509\t\n"
     ]
    }
   ],
   "source": [
    "a17k = []\n",
    "for x in range(17): \n",
    "    for q in a13k:\n",
    "        if stop13*x+q not in del17k:\n",
    "            a17k.append(stop13*x+q)\n",
    "print(len(a17k))\n",
    "printTable(a17k[:50],10,0)\n",
    "print()\n",
    "printTable(a17k[-50:],10,0)"
   ]
  },
  {
   "cell_type": "code",
   "execution_count": 333,
   "id": "classical-holder",
   "metadata": {},
   "outputs": [
    {
     "name": "stdout",
     "output_type": "stream",
     "text": [
      "14419\n"
     ]
    },
    {
     "data": {
      "text/plain": [
       "52351"
      ]
     },
     "execution_count": 333,
     "metadata": {},
     "output_type": "execute_result"
    }
   ],
   "source": [
    "del17 = {}\n",
    "cnt = 0\n",
    "for i in range(2,len(a13k)):\n",
    "    if a13k[i]**2>=stop17:\n",
    "        break\n",
    "    for x in a13k[i:]:\n",
    "        if a13k[i]*x>=stop17:\n",
    "            break\n",
    "        n = a13k[i]*x\n",
    "        if(n in del17):\n",
    "            # print(i,a11k[i],x,n,del13[n])\n",
    "            cnt+=1\n",
    "        del17[a13k[i]*x] = (a13k[i],x)\n",
    "print(cnt)\n",
    "len(del17)        "
   ]
  },
  {
   "cell_type": "code",
   "execution_count": 334,
   "id": "spiritual-lunch",
   "metadata": {},
   "outputs": [
    {
     "name": "stdout",
     "output_type": "stream",
     "text": [
      "2516\n"
     ]
    }
   ],
   "source": [
    "del17d = {x for x in a17k if x in del17}\n",
    "print(len(del17)-len(del17d))"
   ]
  },
  {
   "cell_type": "code",
   "execution_count": 335,
   "id": "excess-sarah",
   "metadata": {},
   "outputs": [
    {
     "name": "stdout",
     "output_type": "stream",
     "text": [
      "42325\n",
      "\t\t\t\t1\t19\t23\t29\t31\t37\t\n",
      "41\t43\t47\t53\t59\t61\t67\t71\t73\t79\t\n",
      "83\t89\t97\t101\t103\t107\t109\t113\t127\t131\t\n",
      "137\t139\t149\t151\t157\t163\t167\t173\t179\t181\t\n",
      "191\t193\t197\t199\t211\t223\t227\t229\t233\t239\t\n",
      "241\t251\t257\t263\t\n",
      "509867\t509879\t509909\t509911\t509921\t509939\t509947\t509959\t509963\t509989\t\n",
      "510007\t510031\t510047\t510049\t510061\t510067\t510073\t510077\t510079\t510089\t\n",
      "510101\t510121\t510127\t510137\t510157\t510179\t510199\t510203\t510217\t510227\t\n",
      "510233\t510241\t510247\t510253\t510271\t510287\t510299\t510311\t510319\t510331\t\n",
      "510361\t510379\t510383\t510401\t510403\t510449\t510451\t510457\t510463\t510481\t\n"
     ]
    }
   ],
   "source": [
    "a17 = [x for x in a17k if x not in del17]\n",
    "print(len(a17))\n",
    "printTable(a17[:50],10,4)\n",
    "print()\n",
    "printTable(a17[-50:],10,0)"
   ]
  },
  {
   "cell_type": "code",
   "execution_count": 344,
   "id": "tamil-budapest",
   "metadata": {},
   "outputs": [
    {
     "name": "stdout",
     "output_type": "stream",
     "text": [
      "[1, 3581, 3583, 3593, 3607, 3613, 3617]\n",
      "[2, 3, 5, 7, 11, 13, 17]\n"
     ]
    }
   ],
   "source": [
    "check(a17[:len(real_simple)],real_simple)"
   ]
  },
  {
   "cell_type": "code",
   "execution_count": null,
   "id": "collected-dependence",
   "metadata": {},
   "outputs": [],
   "source": []
  },
  {
   "cell_type": "markdown",
   "id": "exclusive-colonial",
   "metadata": {},
   "source": [
    "# 19"
   ]
  },
  {
   "cell_type": "code",
   "execution_count": 337,
   "id": "greatest-python",
   "metadata": {},
   "outputs": [
    {
     "data": {
      "text/plain": [
       "9699690"
      ]
     },
     "execution_count": 337,
     "metadata": {},
     "output_type": "execute_result"
    }
   ],
   "source": [
    "stop19 = stop17*19\n",
    "stop19"
   ]
  },
  {
   "cell_type": "code",
   "execution_count": 339,
   "id": "narrow-details",
   "metadata": {},
   "outputs": [
    {
     "name": "stdout",
     "output_type": "stream",
     "text": [
      "92160\n"
     ]
    }
   ],
   "source": [
    "del19k = {19*x for x in a17k}\n",
    "#print(del17k[:15])\n",
    "#print(del17k[-15:])\n",
    "print(len(del19k))"
   ]
  },
  {
   "cell_type": "code",
   "execution_count": 340,
   "id": "proper-pitch",
   "metadata": {
    "scrolled": true
   },
   "outputs": [
    {
     "name": "stdout",
     "output_type": "stream",
     "text": [
      "1658880\n",
      "1\t23\t29\t31\t37\t41\t43\t47\t53\t59\t\n",
      "61\t67\t71\t73\t79\t83\t89\t97\t101\t103\t\n",
      "107\t109\t113\t127\t131\t137\t139\t149\t151\t157\t\n",
      "163\t167\t173\t179\t181\t191\t193\t197\t199\t211\t\n",
      "223\t227\t229\t233\t239\t241\t251\t257\t263\t269\t\n",
      "\n",
      "9699421\t9699427\t9699433\t9699439\t9699449\t9699451\t9699457\t9699461\t9699463\t9699467\t\n",
      "9699479\t9699491\t9699493\t9699497\t9699499\t9699509\t9699511\t9699517\t9699523\t9699527\t\n",
      "9699533\t9699539\t9699541\t9699551\t9699553\t9699559\t9699563\t9699577\t9699581\t9699583\t\n",
      "9699587\t9699589\t9699593\t9699601\t9699607\t9699611\t9699617\t9699619\t9699623\t9699629\t\n",
      "9699631\t9699637\t9699643\t9699647\t9699649\t9699653\t9699659\t9699661\t9699667\t9699689\t\n"
     ]
    }
   ],
   "source": [
    "a19k = []\n",
    "for x in range(19): \n",
    "    for q in a17k:\n",
    "        if stop17*x+q not in del19k:\n",
    "            a19k.append(stop17*x+q)\n",
    "print(len(a19k))\n",
    "printTable(a19k[:50],10,0)\n",
    "print()\n",
    "printTable(a19k[-50:],10,0)"
   ]
  },
  {
   "cell_type": "code",
   "execution_count": 341,
   "id": "accredited-bedroom",
   "metadata": {},
   "outputs": [
    {
     "name": "stdout",
     "output_type": "stream",
     "text": [
      "483289\n"
     ]
    },
    {
     "data": {
      "text/plain": [
       "1062692"
      ]
     },
     "execution_count": 341,
     "metadata": {},
     "output_type": "execute_result"
    }
   ],
   "source": [
    "del19 = {}\n",
    "cnt = 0\n",
    "for i in range(2,len(a17k)):\n",
    "    if a17k[i]**2>=stop19:\n",
    "        break\n",
    "    for x in a17k[i:]:\n",
    "        if a17k[i]*x>=stop19:\n",
    "            break\n",
    "        n = a17k[i]*x\n",
    "        if(n in del19):\n",
    "            cnt+=1\n",
    "        del19[a17k[i]*x] = (a17k[i],x)\n",
    "print(cnt)\n",
    "len(del19)        "
   ]
  },
  {
   "cell_type": "code",
   "execution_count": 342,
   "id": "banned-location",
   "metadata": {},
   "outputs": [
    {
     "name": "stdout",
     "output_type": "stream",
     "text": [
      "49834\n"
     ]
    }
   ],
   "source": [
    "del19d = {x for x in a19k if x in del19}\n",
    "print(len(del19)-len(del19d))"
   ]
  },
  {
   "cell_type": "code",
   "execution_count": 343,
   "id": "functioning-devil",
   "metadata": {},
   "outputs": [
    {
     "name": "stdout",
     "output_type": "stream",
     "text": [
      "646022\n",
      "\t\t\t\t1\t23\t29\t31\t37\t41\t\n",
      "43\t47\t53\t59\t61\t67\t71\t73\t79\t83\t\n",
      "89\t97\t101\t103\t107\t109\t113\t127\t131\t137\t\n",
      "139\t149\t151\t157\t163\t167\t173\t179\t181\t191\t\n",
      "193\t197\t199\t211\t223\t227\t229\t233\t239\t241\t\n",
      "251\t257\t263\t269\t\n",
      "9698851\t9698861\t9698867\t9698879\t9698957\t9698981\t9699007\t9699013\t9699017\t9699023\t\n",
      "9699047\t9699071\t9699073\t9699089\t9699113\t9699133\t9699149\t9699161\t9699191\t9699199\t\n",
      "9699203\t9699211\t9699233\t9699251\t9699289\t9699323\t9699331\t9699341\t9699359\t9699377\t\n",
      "9699409\t9699433\t9699449\t9699451\t9699461\t9699509\t9699511\t9699533\t9699551\t9699563\t\n",
      "9699593\t9699611\t9699623\t9699631\t9699637\t9699643\t9699647\t9699649\t9699653\t9699667\t\n"
     ]
    }
   ],
   "source": [
    "a19 = [x for x in a19k if x not in del19]\n",
    "print(len(a19))\n",
    "printTable(a19[:50],10,4)\n",
    "print()\n",
    "printTable(a19[-50:],10,0)"
   ]
  },
  {
   "cell_type": "code",
   "execution_count": 345,
   "id": "starting-explanation",
   "metadata": {},
   "outputs": [
    {
     "name": "stdout",
     "output_type": "stream",
     "text": [
      "[1, 3581, 3583, 3593, 3607, 3613, 3617]\n",
      "[2, 3, 5, 7, 11, 13, 17]\n"
     ]
    }
   ],
   "source": [
    "check(a17[:len(real_simple)],real_simple)"
   ]
  },
  {
   "cell_type": "code",
   "execution_count": 351,
   "id": "apart-familiar",
   "metadata": {},
   "outputs": [
    {
     "data": {
      "text/plain": [
       "0.3211925427118937"
      ]
     },
     "execution_count": 351,
     "metadata": {},
     "output_type": "execute_result"
    }
   ],
   "source": [
    "import math\n",
    "9699690/8/1024/1024/3"
   ]
  },
  {
   "cell_type": "code",
   "execution_count": null,
   "id": "expanded-carroll",
   "metadata": {},
   "outputs": [],
   "source": []
  }
 ],
 "metadata": {
  "kernelspec": {
   "display_name": "Python 3",
   "language": "python",
   "name": "python3"
  },
  "language_info": {
   "codemirror_mode": {
    "name": "ipython",
    "version": 3
   },
   "file_extension": ".py",
   "mimetype": "text/x-python",
   "name": "python",
   "nbconvert_exporter": "python",
   "pygments_lexer": "ipython3",
   "version": "3.8.5"
  }
 },
 "nbformat": 4,
 "nbformat_minor": 5
}
