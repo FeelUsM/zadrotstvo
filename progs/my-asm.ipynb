{
 "cells": [
  {
   "cell_type": "code",
   "execution_count": 3,
   "metadata": {
    "ExecuteTime": {
     "end_time": "2022-01-02T07:04:16.120901Z",
     "start_time": "2022-01-02T07:04:16.110900Z"
    }
   },
   "outputs": [],
   "source": [
    "out_code = []\n",
    "out_list = []\n",
    "out_mode = '16' # '32'"
   ]
  },
  {
   "cell_type": "code",
   "execution_count": 180,
   "metadata": {
    "ExecuteTime": {
     "end_time": "2022-01-03T10:22:33.933419Z",
     "start_time": "2022-01-03T10:22:33.638411Z"
    }
   },
   "outputs": [],
   "source": [
    "#('imm',minsize,data)\n",
    "#    data - бинарная строка или целое число\n",
    "#('reg',size,name)\n",
    "# e-acdb-xlh, cdsefg-s, e-flags\n",
    "#('mem',seg,base,index,offset[,size])\n",
    "#   string 'ds:[ax*4+bp+7]'\n",
    "class Mem:\n",
    "    def __init__(self,seg,base,index,offset):\n",
    "        self.type = 'mem'\n",
    "        self.seg = seg\n",
    "        self.base = base\n",
    "        self.index = index\n",
    "        self.offset = offset\n",
    "    def __repr__(self):\n",
    "        off = []\n",
    "        if self.base!=None: off.append(self.base)\n",
    "        if self.index!=None: off.append(self.index)\n",
    "        if self.offset!=None: off.append(str(self.offset))\n",
    "        return '{}:[{}]'.format(self.seg,'+'.join(off))\n",
    "def default_seg(base):\n",
    "    return 'ss' if base=='bp' else 'ds'\n",
    "def parse_mem(seg,arg):\n",
    "    arg = arg.split('+')\n",
    "    base = None\n",
    "    index = None\n",
    "    offset = None\n",
    "    for c in arg:\n",
    "        if c in {'bx','bp'}:\n",
    "            if base !=None: raise Exception('double base in indexing')\n",
    "            base = c\n",
    "        elif c in {'si','di'}:\n",
    "            if index !=None: raise Exception('double index in indexing')\n",
    "            index = c\n",
    "        else:\n",
    "            if offset !=None: raise Exception('double offset in indexing')\n",
    "            offset = int(c)\n",
    "    if seg==None:\n",
    "        seg = default_seg(base)\n",
    "    return Mem(default_seg(base),base,index,offset)\n",
    "\n",
    "class Reg:\n",
    "    def __init__(self,size,name):\n",
    "        self.type = 'reg'\n",
    "        self.size = size\n",
    "        self.name = name\n",
    "    def __repr__(self):\n",
    "        return self.name\n",
    "    def number(self):\n",
    "        x = self.name\n",
    "        return \\\n",
    "            0 if x=='ax' else\\\n",
    "            1 if x=='cx' else\\\n",
    "            2 if x=='dx' else\\\n",
    "            3 if x=='bx' else\\\n",
    "            4 if x=='sp' else\\\n",
    "            5 if x=='bp' else\\\n",
    "            6 if x=='si' else\\\n",
    "            7 if x=='di' else\\\n",
    "            \\\n",
    "            0 if x=='al' else\\\n",
    "            1 if x=='cl' else\\\n",
    "            2 if x=='dl' else\\\n",
    "            3 if x=='bl' else\\\n",
    "            4 if x=='ah' else\\\n",
    "            5 if x=='ch' else\\\n",
    "            6 if x=='dh' else\\\n",
    "            7 if x=='bh' else\\\n",
    "            \\\n",
    "            0 if x=='es' else\\\n",
    "            1 if x=='cs' else\\\n",
    "            2 if x=='ss' else\\\n",
    "            3 if x=='ds' else\\\n",
    "            4 if x=='fs' else\\\n",
    "            5 if x=='gs' else\\\n",
    "            None\n",
    "    def is_seg(self):\n",
    "        return self.name in {'cs','ds','ss','es','fs','gs'}\n",
    "            \n",
    "class Imm:\n",
    "    def __init__(self,minsize,data):\n",
    "        self.type = 'imm'\n",
    "        self.minsize = minsize\n",
    "        self.data = data\n",
    "    def __repr__(self):\n",
    "        return str(self.data)\n",
    "\n",
    "def parse(arg):\n",
    "    if type(arg) is int:\n",
    "        if   arg>=2**(10*8): raise Exception('too big immediate arg (10 bytes)')\n",
    "        elif arg>=2**(8*8): return Imm(10,arg)\n",
    "        elif arg>=2**(6*8): return Imm(8,arg)\n",
    "        elif arg>=2**(4*8): return Imm(6,arg)\n",
    "        elif arg>=2**(2*8): return Imm(4,arg)\n",
    "        elif arg>=2**(1*8): return Imm(2,arg)\n",
    "        \n",
    "        elif arg<=-2**(10*8-1): raise Exception('too big immediate arg (10 bytes)')\n",
    "        elif arg<=-2**(8*8-1): return Imm(10,arg)\n",
    "        elif arg<=-2**(6*8-1): return Imm(8,arg)\n",
    "        elif arg<=-2**(4*8-1): return Imm(6,arg)\n",
    "        elif arg<=-2**(2*8-1): return Imm(4,arg)\n",
    "        elif arg<=-2**(1*8-1): return Imm(2,arg)\n",
    "        else: return Imm(1,arg)\n",
    "    elif type(arg) is bytes:\n",
    "        return Imm(len(arg),arg)\n",
    "    \n",
    "    elif arg in {'ax','bx','cx','dx','bp','sp','si','di',\n",
    "               'cs','ds','ss','es','fs','gs','flags'}:\n",
    "        return Reg(2,arg)\n",
    "    elif arg in {'al','ah','bl','bh','cl','ch','dl','dh'}:\n",
    "        return Reg(1,arg)\n",
    "    \n",
    "    else: \n",
    "        arg = arg.split(':')\n",
    "        if len(arg)==2:\n",
    "            seg = arg[0]\n",
    "            arg = arg[1]\n",
    "            if arg[0]=='[' : arg = arg[1:-1]\n",
    "        else:\n",
    "            seg = None\n",
    "            arg = arg[0]\n",
    "            assert arg[0]=='['\n",
    "            arg = arg[1:-1]\n",
    "        return parse_mem(seg,arg)\n",
    "\n",
    "def is_ax_al(reg):\n",
    "    return reg.type=='reg' and (reg.name=='ax' or reg.name=='al')\n",
    "def offset_only(mem):\n",
    "    return isinstance(mem,Mem) and mem.base==None and mem.index==None\n",
    "def int2bytes(x,l):\n",
    "    if x<0: x += 2**(l*8)\n",
    "    return (x).to_bytes(l, byteorder='little')\n",
    "    \n",
    "        \n",
    "def mov(dest1,src1,size=None):\n",
    "    dest = parse(dest1)\n",
    "    src = parse(src1)\n",
    "    global out_code, out_list\n",
    "    if src.type=='imm':\n",
    "        if dest.type=='reg':\n",
    "    #\t\tB0 + rb MOV reg8,imm8 \t2 \t\tMove immediate byte to register\n",
    "            if dest.size==1:\n",
    "                assert src.minsize<=dest.size and not dest.is_seg()\n",
    "                out_code.append(int2bytes(0xB0+dest.number(),1)+int2bytes(src.data,1))\n",
    "                out_list.append('mov {}, {}'.format(dest,src))\n",
    "    #\t\tB8 + rd MOV reg32,imm32\t2 \t\t16+ Move immediate dword to register\n",
    "            else:\n",
    "                assert src.minsize<=dest.size and not dest.is_seg()\n",
    "                out_code.append(int2bytes(0xB8+dest.number(),1)+int2bytes(src.data,2))\n",
    "                out_list.append('mov {}, {}'.format(dest,src))\n",
    "    #\t\tC6\tMOV r/m8,imm8 \t2/2 \t\tMove immediate byte to r/m byte\n",
    "    #\t\tC7 \tMOV r/m32,imm32\t2/2 \t\t16+ Move immediate dword to r/m dword\n",
    "        \n",
    "    elif is_ax_al(dest) and offset_only(src):\n",
    "        assert default_seg(src.base)==src.seg\n",
    "    #\t\tA0 \tMOV AL,moffs8 \t4 \t\tMove byte at (seg:offset) to AL\n",
    "        if dest.name=='al':\n",
    "            out_code.append(b'\\xA0'+int2bytes(src.offset,2))\n",
    "            out_list.append('mov al, '+repr(src))\n",
    "    #\t\tA1 \tMOV EAX,moffs32\t4 \t\t16+ Move dword at (seg:offset) to EAX\n",
    "        else:\n",
    "            out_code.append(b'\\xA1'+int2bytes(src.offset,2))\n",
    "            out_list.append('mov ax, '+repr(src))\n",
    "    elif offset_only(dest) and is_ax_al(src):\n",
    "    #\t\tA2 \tMOV moffs8,AL \t2 \t\tMove AL to (seg:offset)\n",
    "        if src.name=='al':\n",
    "            out_code.append(b'\\xA2'+int2bytes(dest.offset,2))\n",
    "            out_list.append('mov '+repr(dest)+',al')\n",
    "    #\t\tA3 \tMOV moffs32,EAX\t2 \t\t16+ Move EAX to (seg:offset)\n",
    "        else:\n",
    "            out_code.append(b'\\xA3'+int2bytes(dest.offset,2))\n",
    "            out_list.append('mov '+repr(dest)+',ax')\n",
    "    elif dest.type=='reg' and src.type=='mem':\n",
    "        pass\n",
    "    elif dest.type=='mem' and src.type=='reg':\n",
    "        pass\n",
    "    #\t\t88 /r \tMOV r/m8,r8 \t2/2 \t\tMove byte register to r/m byte\n",
    "    #\t\t89 /r \tMOV r/m32,r32 \t2/2 \t\t16+ Move dword register to r/m dword\n",
    "    #\t\t8A /r \tMOV r8,r/m8 \t2/4 \t\tMove r/m byte to byte register\n",
    "    #\t\t8B /r \tMOV r32,r/m32 \t2/4 \t\t16+ Move r/m dword to dword register\n",
    "\n",
    "\n",
    "    #\t\t8C /r \tMOV r/m16,Sreg \t2/2 \t\tMove segment register to r/m word\n",
    "    #\t\t8E /r \tMOV Sreg,r/m16 \t2/5,pm=18/19 \tMove r/m word to segment register\n"
   ]
  },
  {
   "cell_type": "code",
   "execution_count": 187,
   "metadata": {
    "ExecuteTime": {
     "end_time": "2022-01-03T14:06:05.946432Z",
     "start_time": "2022-01-03T14:06:05.910429Z"
    }
   },
   "outputs": [
    {
     "ename": "NameError",
     "evalue": "name '_int' is not defined",
     "output_type": "error",
     "traceback": [
      "\u001b[1;31m---------------------------------------------------------------------------\u001b[0m",
      "\u001b[1;31mNameError\u001b[0m                                 Traceback (most recent call last)",
      "\u001b[1;32m<ipython-input-187-22ff289b4396>\u001b[0m in \u001b[0;36m<module>\u001b[1;34m\u001b[0m\n\u001b[0;32m      1\u001b[0m \u001b[0mmov\u001b[0m\u001b[1;33m(\u001b[0m\u001b[1;34m'ax'\u001b[0m\u001b[1;33m,\u001b[0m\u001b[1;36m0x0003\u001b[0m\u001b[1;33m)\u001b[0m\u001b[1;33m\u001b[0m\u001b[1;33m\u001b[0m\u001b[0m\n\u001b[1;32m----> 2\u001b[1;33m \u001b[0m_int\u001b[0m\u001b[1;33m(\u001b[0m\u001b[1;36m0x10\u001b[0m\u001b[1;33m)\u001b[0m\u001b[1;33m\u001b[0m\u001b[1;33m\u001b[0m\u001b[0m\n\u001b[0m\u001b[0;32m      3\u001b[0m \u001b[0mmov\u001b[0m\u001b[1;33m(\u001b[0m\u001b[1;34m'ax'\u001b[0m\u001b[1;33m,\u001b[0m\u001b[1;36m0x1301\u001b[0m\u001b[1;33m)\u001b[0m\u001b[1;33m\u001b[0m\u001b[1;33m\u001b[0m\u001b[0m\n\u001b[0;32m      4\u001b[0m \u001b[0mmov\u001b[0m\u001b[1;33m(\u001b[0m\u001b[1;34m'cx'\u001b[0m\u001b[1;33m,\u001b[0m\u001b[1;36m0x1301\u001b[0m\u001b[1;33m)\u001b[0m\u001b[1;33m\u001b[0m\u001b[1;33m\u001b[0m\u001b[0m\n\u001b[0;32m      5\u001b[0m \u001b[0mmov\u001b[0m\u001b[1;33m(\u001b[0m\u001b[1;34m'bl'\u001b[0m\u001b[1;33m,\u001b[0m\u001b[1;36m0x07\u001b[0m\u001b[1;33m)\u001b[0m\u001b[1;33m\u001b[0m\u001b[1;33m\u001b[0m\u001b[0m\n",
      "\u001b[1;31mNameError\u001b[0m: name '_int' is not defined"
     ]
    }
   ],
   "source": [
    "mov('ax',0x0003)\n",
    "_int(0x10)\n",
    "mov('ax',0x1301)\n",
    "mov('cx',0x1301)\n",
    "mov('bl',0x07)\n",
    "mov('dx',0x0000)\n",
    "push(0)\n",
    "pop(es)\n"
   ]
  },
  {
   "cell_type": "code",
   "execution_count": 186,
   "metadata": {
    "ExecuteTime": {
     "end_time": "2022-01-03T10:23:19.898470Z",
     "start_time": "2022-01-03T10:23:19.884468Z"
    }
   },
   "outputs": [
    {
     "data": {
      "text/plain": [
       "[b'\\xa0\\x07',\n",
       " b'\\xa0\\x07\\x00',\n",
       " b'\\xa0\\x07\\x00',\n",
       " b'\\xa0\\x07\\x00',\n",
       " b'\\xa0\\x07\\x00',\n",
       " b'\\xa0\\x07\\x00',\n",
       " b'\\xb0\\x07',\n",
       " b'\\xb4\\x07']"
      ]
     },
     "execution_count": 186,
     "metadata": {},
     "output_type": "execute_result"
    }
   ],
   "source": [
    "out_code"
   ]
  },
  {
   "cell_type": "code",
   "execution_count": 168,
   "metadata": {
    "ExecuteTime": {
     "end_time": "2022-01-03T09:48:54.588413Z",
     "start_time": "2022-01-03T09:48:54.562415Z"
    }
   },
   "outputs": [
    {
     "ename": "TypeError",
     "evalue": "unsupported operand type(s) for +: 'Mem' and 'str'",
     "output_type": "error",
     "traceback": [
      "\u001b[1;31m---------------------------------------------------------------------------\u001b[0m",
      "\u001b[1;31mTypeError\u001b[0m                                 Traceback (most recent call last)",
      "\u001b[1;32m<ipython-input-168-581ef7e77675>\u001b[0m in \u001b[0;36m<module>\u001b[1;34m\u001b[0m\n\u001b[1;32m----> 1\u001b[1;33m \u001b[0mMem\u001b[0m\u001b[1;33m(\u001b[0m\u001b[1;34m'1'\u001b[0m\u001b[1;33m,\u001b[0m\u001b[1;34m'2'\u001b[0m\u001b[1;33m,\u001b[0m\u001b[1;34m'3'\u001b[0m\u001b[1;33m,\u001b[0m\u001b[1;36m4\u001b[0m\u001b[1;33m)\u001b[0m\u001b[1;33m+\u001b[0m\u001b[1;34m''\u001b[0m\u001b[1;33m\u001b[0m\u001b[1;33m\u001b[0m\u001b[0m\n\u001b[0m",
      "\u001b[1;31mTypeError\u001b[0m: unsupported operand type(s) for +: 'Mem' and 'str'"
     ]
    }
   ],
   "source": [
    "Mem('1','2','3',4)+''"
   ]
  },
  {
   "cell_type": "code",
   "execution_count": 30,
   "metadata": {
    "ExecuteTime": {
     "end_time": "2022-01-02T13:03:14.916215Z",
     "start_time": "2022-01-02T13:03:14.901216Z"
    }
   },
   "outputs": [
    {
     "data": {
      "text/plain": [
       "-8"
      ]
     },
     "execution_count": 30,
     "metadata": {},
     "output_type": "execute_result"
    }
   ],
   "source": [
    "-1<< 3"
   ]
  },
  {
   "cell_type": "code",
   "execution_count": 24,
   "metadata": {
    "ExecuteTime": {
     "end_time": "2022-01-02T10:17:53.459380Z",
     "start_time": "2022-01-02T10:17:53.444378Z"
    }
   },
   "outputs": [
    {
     "data": {
      "text/plain": [
       "123"
      ]
     },
     "execution_count": 24,
     "metadata": {},
     "output_type": "execute_result"
    }
   ],
   "source": [
    "int('123')"
   ]
  },
  {
   "cell_type": "code",
   "execution_count": 52,
   "metadata": {
    "ExecuteTime": {
     "end_time": "2022-01-02T13:16:40.613218Z",
     "start_time": "2022-01-02T13:16:40.596217Z"
    }
   },
   "outputs": [
    {
     "data": {
      "text/plain": [
       "b'#\\x01\\x00\\x00'"
      ]
     },
     "execution_count": 52,
     "metadata": {},
     "output_type": "execute_result"
    }
   ],
   "source": [
    "(0x123).to_bytes(4, byteorder='little')"
   ]
  },
  {
   "cell_type": "code",
   "execution_count": 108,
   "metadata": {
    "ExecuteTime": {
     "end_time": "2022-01-03T07:49:04.861104Z",
     "start_time": "2022-01-03T07:49:04.850103Z"
    }
   },
   "outputs": [],
   "source": [
    "x=1\n",
    "y = {}"
   ]
  },
  {
   "cell_type": "code",
   "execution_count": 109,
   "metadata": {
    "ExecuteTime": {
     "end_time": "2022-01-03T07:49:52.182039Z",
     "start_time": "2022-01-03T07:49:50.322980Z"
    }
   },
   "outputs": [],
   "source": [
    "for i in range(1000000):\n",
    "    x*=0x4e35\n",
    "    x &= 0xFFFF\n",
    "    x+=1\n",
    "    if x in y:\n",
    "        y[x]+=1\n",
    "    else:\n",
    "        y[x]=1\n"
   ]
  },
  {
   "cell_type": "code",
   "execution_count": 142,
   "metadata": {
    "ExecuteTime": {
     "end_time": "2022-01-03T07:55:34.376354Z",
     "start_time": "2022-01-03T07:55:34.360352Z"
    }
   },
   "outputs": [
    {
     "data": {
      "text/plain": [
       "16"
      ]
     },
     "execution_count": 142,
     "metadata": {},
     "output_type": "execute_result"
    }
   ],
   "source": [
    "y[1243]"
   ]
  },
  {
   "cell_type": "code",
   "execution_count": 111,
   "metadata": {
    "ExecuteTime": {
     "end_time": "2022-01-03T07:51:04.512117Z",
     "start_time": "2022-01-03T07:51:04.498116Z"
    }
   },
   "outputs": [
    {
     "data": {
      "text/plain": [
       "20021"
      ]
     },
     "execution_count": 111,
     "metadata": {},
     "output_type": "execute_result"
    }
   ],
   "source": [
    "0x4e35"
   ]
  },
  {
   "cell_type": "code",
   "execution_count": 131,
   "metadata": {
    "ExecuteTime": {
     "end_time": "2022-01-03T07:53:42.568827Z",
     "start_time": "2022-01-03T07:53:42.553828Z"
    }
   },
   "outputs": [
    {
     "data": {
      "text/plain": [
       "0"
      ]
     },
     "execution_count": 131,
     "metadata": {},
     "output_type": "execute_result"
    }
   ],
   "source": [
    "12%1"
   ]
  },
  {
   "cell_type": "code",
   "execution_count": null,
   "metadata": {},
   "outputs": [],
   "source": []
  }
 ],
 "metadata": {
  "kernelspec": {
   "display_name": "Python 3",
   "language": "python",
   "name": "python3"
  },
  "language_info": {
   "codemirror_mode": {
    "name": "ipython",
    "version": 3
   },
   "file_extension": ".py",
   "mimetype": "text/x-python",
   "name": "python",
   "nbconvert_exporter": "python",
   "pygments_lexer": "ipython3",
   "version": "3.6.7"
  },
  "varInspector": {
   "cols": {
    "lenName": 16,
    "lenType": 16,
    "lenVar": 40
   },
   "kernels_config": {
    "python": {
     "delete_cmd_postfix": "",
     "delete_cmd_prefix": "del ",
     "library": "var_list.py",
     "varRefreshCmd": "print(var_dic_list())"
    },
    "r": {
     "delete_cmd_postfix": ") ",
     "delete_cmd_prefix": "rm(",
     "library": "var_list.r",
     "varRefreshCmd": "cat(var_dic_list()) "
    }
   },
   "types_to_exclude": [
    "module",
    "function",
    "builtin_function_or_method",
    "instance",
    "_Feature"
   ],
   "window_display": false
  }
 },
 "nbformat": 4,
 "nbformat_minor": 2
}
