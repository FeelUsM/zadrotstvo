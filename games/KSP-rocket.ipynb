{
 "cells": [
  {
   "cell_type": "code",
   "execution_count": 1,
   "metadata": {
    "ExecuteTime": {
     "end_time": "2020-04-01T16:34:46.195562Z",
     "start_time": "2020-04-01T16:34:46.187561Z"
    }
   },
   "outputs": [],
   "source": [
    "from copy import *\n",
    "from math import *\n",
    "\n",
    "def my_format(x):\n",
    "    if type(x)==int: return str(x)\n",
    "    if abs(x)<1e-7: return '0'\n",
    "    try:\n",
    "        k = int(log10(x))+1\n",
    "    except Exception as e:\n",
    "        raise Exception(x,e)\n",
    "    #print(k,max(4-k,0))\n",
    "    return ('{:.' + str(max(4-k,0)) + 'f}').format(x)"
   ]
  },
  {
   "cell_type": "code",
   "execution_count": 2,
   "metadata": {
    "ExecuteTime": {
     "end_time": "2020-04-01T16:34:46.377572Z",
     "start_time": "2020-04-01T16:34:46.200562Z"
    }
   },
   "outputs": [
    {
     "data": {
      "text/plain": [
       "'12346'"
      ]
     },
     "execution_count": 2,
     "metadata": {},
     "output_type": "execute_result"
    }
   ],
   "source": [
    "my_format(12345.6)"
   ]
  },
  {
   "cell_type": "code",
   "execution_count": 3,
   "metadata": {
    "ExecuteTime": {
     "end_time": "2020-04-01T16:34:46.544582Z",
     "start_time": "2020-04-01T16:34:46.379572Z"
    }
   },
   "outputs": [
    {
     "data": {
      "text/plain": [
       "'1235'"
      ]
     },
     "execution_count": 3,
     "metadata": {},
     "output_type": "execute_result"
    }
   ],
   "source": [
    "my_format(1234.56)"
   ]
  },
  {
   "cell_type": "code",
   "execution_count": 4,
   "metadata": {
    "ExecuteTime": {
     "end_time": "2020-04-01T16:34:46.645588Z",
     "start_time": "2020-04-01T16:34:46.551582Z"
    }
   },
   "outputs": [
    {
     "data": {
      "text/plain": [
       "'123.5'"
      ]
     },
     "execution_count": 4,
     "metadata": {},
     "output_type": "execute_result"
    }
   ],
   "source": [
    "my_format(123.456)"
   ]
  },
  {
   "cell_type": "code",
   "execution_count": 5,
   "metadata": {
    "ExecuteTime": {
     "end_time": "2020-04-01T16:34:46.741593Z",
     "start_time": "2020-04-01T16:34:46.654588Z"
    }
   },
   "outputs": [
    {
     "data": {
      "text/plain": [
       "'12.35'"
      ]
     },
     "execution_count": 5,
     "metadata": {},
     "output_type": "execute_result"
    }
   ],
   "source": [
    "my_format(12.3456)"
   ]
  },
  {
   "cell_type": "code",
   "execution_count": 6,
   "metadata": {
    "ExecuteTime": {
     "end_time": "2020-04-01T16:34:46.849599Z",
     "start_time": "2020-04-01T16:34:46.750594Z"
    }
   },
   "outputs": [
    {
     "data": {
      "text/plain": [
       "'1.235'"
      ]
     },
     "execution_count": 6,
     "metadata": {},
     "output_type": "execute_result"
    }
   ],
   "source": [
    "my_format(1.23456)"
   ]
  },
  {
   "cell_type": "code",
   "execution_count": 7,
   "metadata": {
    "ExecuteTime": {
     "end_time": "2020-04-01T16:34:46.978607Z",
     "start_time": "2020-04-01T16:34:46.858600Z"
    }
   },
   "outputs": [],
   "source": [
    "CONVERSION_FACTOR=9.81\n",
    "class engine:\n",
    "    def __init__(self,m,thrust_min,thrust_max,isp_min,isp_max,m_f=0):\n",
    "        self.m_c=m\n",
    "        self.m_f=m_f\n",
    "        self.thrust_min=thrust_min\n",
    "        self.thrust_max=thrust_max\n",
    "        self.isp_min=isp_min\n",
    "        self.isp_max=isp_max\n",
    "        if thrust_min>0:\n",
    "            assert (thrust_max/isp_max - thrust_min/isp_min)/thrust_min/isp_min < 1e-4,\\\n",
    "                (thrust_max/isp_max - thrust_min/isp_min)/thrust_min/isp_min\n",
    "        self.consumption = thrust_max/isp_max/CONVERSION_FACTOR\n",
    "    def __mul__(self, mul):\n",
    "        return engine(\n",
    "            self.m_c*mul,\n",
    "            self.thrust_min*mul,\n",
    "            self.thrust_max*mul,\n",
    "            self.isp_min,\n",
    "            self.isp_max,\n",
    "            self.m_f*mul\n",
    "        )\n",
    "    def __rmul__(self, other):\n",
    "        return self.__mul__(other)\n",
    "    def thrust_lim(self,lim):\n",
    "        return engine(\n",
    "            self.m_c,\n",
    "            self.thrust_min*lim,\n",
    "            self.thrust_max*lim,\n",
    "            self.isp_min,\n",
    "            self.isp_max,\n",
    "            self.m_f\n",
    "        )\n",
    "    def __add__(self,other):\n",
    "        a1=self.consumption/(self.consumption+other.consumption)\n",
    "        a2=other.consumption/(self.consumption+other.consumption)\n",
    "        return engine(\n",
    "            self.m_c+other.m_c,\n",
    "            self.thrust_min+other.thrust_min,\n",
    "            self.thrust_max+other.thrust_max,\n",
    "            a1*self.isp_min+a2*other.isp_min,\n",
    "            a1*self.isp_max+a2*other.isp_max,\n",
    "            (self.m_f+other.m_f)\n",
    "        )\n",
    "    \n",
    "    def __repr__(self):\n",
    "        return 'make_engine('+str(self.m_c/1000)+', '+\\\n",
    "            my_format(self.thrust_min/1000)+', '+\\\n",
    "            my_format(self.thrust_max/1000)+', '+\\\n",
    "            my_format(self.isp_min)+', '+\\\n",
    "            my_format(self.isp_max)+', '+\\\n",
    "            my_format(self.m_f/1000)+\\\n",
    "        ') # '+my_format(self.consumption)\n",
    "\n",
    "def make_engine(m,thrust_min,thrust_max,isp_min,isp_max,m_f=0):\n",
    "    return engine(m*1000,thrust_min*1000,thrust_max*1000,isp_min,isp_max,m_f*1000)\n",
    "    \n",
    "муравей = make_engine(\t0.020\t,0.5\t,2\t    ,80\t    ,315\t        )\n",
    "терьер = make_engine(\t0.500\t,14.783\t,60\t    ,85\t    ,345\t        )\n",
    "гепард = make_engine(\t1   \t,25\t    ,125\t,150\t,355\t        )\n",
    "пудель = make_engine(\t1.750\t,64\t    ,250\t,90\t    ,350\t        )\n",
    "волкодав = make_engine(\t3.300\t,69\t    ,375\t,70\t    ,380\t        )\n",
    "юнец = make_engine(\t\t0.018\t,29\t    ,32\t    ,280\t,310\t        )\n",
    "паук = make_engine(\t\t0.020\t,1.8\t,2\t    ,260\t,290\t        )\n",
    "свеча = make_engine(\t0.080\t,15\t    ,16\t    ,275\t,290\t        )\n",
    "стукач = make_engine(\t0.900\t,108\t,120\t,275\t,305\t        )\n",
    "искра = make_engine(\t0.130\t,16\t    ,20\t    ,265\t,320\t        )\n",
    "дротик = make_engine(\t1.000\t,153\t,180\t,290\t,340\t        )\n",
    "РАПИРА = make_engine(\t2.000\t,162\t,180\t,275\t,305\t        )\n",
    "медведь = make_engine(\t1.250\t,247\t,260\t,285\t,300\t        )\n",
    "факел = make_engine(\t1.250\t,205\t,240\t,265\t,310\t        )\n",
    "вертлявый = make_engine(1.500\t,167\t,215\t,250\t,320\t        )\n",
    "скиф = make_engine(\t\t1.600\t,240\t,300\t,265\t,330\t        )\n",
    "рысь = make_engine(\t\t2.000\t,374\t,400\t,290\t,310\t        )\n",
    "шкипер = make_engine(\t3.000\t,568\t,650\t,280\t,320\t        )\n",
    "вектор = make_engine(\t4.000\t,936\t,1000\t,295\t,315\t        )\n",
    "мастодонт = make_engine(5.000\t,1283\t,1350\t,290\t,305\t        )\n",
    "грохот = make_engine(\t6.000\t,1379\t,1500\t,285\t,310\t        )\n",
    "носорог = make_engine(\t9.000\t,1205\t,2000\t,205\t,340\t        )\n",
    "мамонт = make_engine(\t15.000\t,3746\t,4000\t,295\t,315\t        )\n",
    "курьер = make_engine(\t10.000\t,1866\t,2000\t,280\t,300\t,160    )\n",
    "\n",
    "блоха = make_engine(\t0.450\t,163\t,192\t,140\t,165\t,1.05\t)\n",
    "молот = make_engine(\t0.7585\t,198\t,227\t,170\t,195\t,2.81\t)\n",
    "кувалда = make_engine(\t1.500\t,250\t,300\t,175\t,210\t,6.15\t)\n",
    "булава = make_engine(\t4.500\t,594\t,670\t,195\t,220\t,19.5\t)\n",
    "\n",
    "null_engine = make_engine(0,0,0,1,1)\n",
    "\n",
    "class stage:\n",
    "    def __init__(self,m_c,m_f,engines,aspargarus=0):#atm...\n",
    "        self.m_c=m_c+engines.m_c\n",
    "        self.m_f=m_f+engines.m_f\n",
    "        self.engines = copy(engines)#atm...\n",
    "        self.engines.m_c=0\n",
    "        self.engines.m_f=0\n",
    "        self.aspargarus = aspargarus # показывает, на сколько ступеней дальше передается топливо\n",
    "    def __mul__(self,mul):\n",
    "        return stage(mul*self.m_c,\n",
    "                mul*self.m_f,\n",
    "                mul*self.engines,\n",
    "                self.aspargarus\n",
    "            )\n",
    "    def __rmul__(self, other):\n",
    "        return self.__mul__(other)\n",
    "    def __repr__(self):\n",
    "        return 'stage('+\\\n",
    "            my_format((self.m_c))+', '+\\\n",
    "            my_format(self.m_f)+', '+\\\n",
    "            repr(self.engines)+\\\n",
    "        ')'\n",
    "    \n",
    "def st(m_c,m_f,engines,aspargarus=0):\n",
    "    return stage((m_c+m_f/8)*1000,m_f*1000,engines,aspargarus)"
   ]
  },
  {
   "cell_type": "code",
   "execution_count": 8,
   "metadata": {
    "ExecuteTime": {
     "end_time": "2020-04-01T16:34:47.117615Z",
     "start_time": "2020-04-01T16:34:46.981607Z"
    }
   },
   "outputs": [
    {
     "data": {
      "text/plain": [
       "stage(450.0, 1050, make_engine(0.0, 163.0, 192.0, 140, 165, 0) # 118.6)"
      ]
     },
     "execution_count": 8,
     "metadata": {},
     "output_type": "execute_result"
    }
   ],
   "source": [
    "st(0,0,блоха)"
   ]
  },
  {
   "cell_type": "code",
   "execution_count": 9,
   "metadata": {
    "ExecuteTime": {
     "end_time": "2020-04-01T16:34:47.216620Z",
     "start_time": "2020-04-01T16:34:47.124615Z"
    }
   },
   "outputs": [
    {
     "data": {
      "text/plain": [
       "make_engine(0.9, 326.0, 384.0, 140, 165, 2.100) # 237.2"
      ]
     },
     "execution_count": 9,
     "metadata": {},
     "output_type": "execute_result"
    }
   ],
   "source": [
    "2*блоха"
   ]
  },
  {
   "cell_type": "code",
   "execution_count": 10,
   "metadata": {
    "ExecuteTime": {
     "end_time": "2020-04-01T16:34:47.327627Z",
     "start_time": "2020-04-01T16:34:47.220620Z"
    }
   },
   "outputs": [
    {
     "data": {
      "text/plain": [
       "stage(900.0, 2100, make_engine(0.0, 326.0, 384.0, 140, 165, 0) # 237.2)"
      ]
     },
     "execution_count": 10,
     "metadata": {},
     "output_type": "execute_result"
    }
   ],
   "source": [
    "2*st(0,0,блоха)"
   ]
  },
  {
   "cell_type": "code",
   "execution_count": 11,
   "metadata": {
    "ExecuteTime": {
     "end_time": "2020-04-01T16:34:47.422632Z",
     "start_time": "2020-04-01T16:34:47.335627Z"
    }
   },
   "outputs": [],
   "source": [
    "def build_stage(stages):\n",
    "    # stages - список списков ступеней\n",
    "    lst = stages[-1] # last stage\n",
    "    if len(lst)==1:\n",
    "        del stages[-1]\n",
    "        return lst[0]\n",
    "    # выделяем отдельные asp_list-ы\n",
    "    asp_lists = [] # aspargarus lists - список из [asp_list,asp_engines,asp_time]\n",
    "    # asp_lists список из asp_meta_list\n",
    "    #   asp_meta_list[0] - asp_list\n",
    "    #     asp_list - список индексов в lst\n",
    "    #   asp_meta_list[1] - asp_engine\n",
    "    #   asp_meta_list[2] - asp_time\n",
    "    not_used = [i for i in range(len(lst))]\n",
    "    while len(not_used)>0:\n",
    "        cur = not_used[-1]\n",
    "        del not_used[-1]\n",
    "        asp_list=[cur]\n",
    "        asp_engines = lst[cur].engines\n",
    "        while lst[cur].aspargarus:\n",
    "            cur-=lst[cur].aspargarus\n",
    "            assert cur in not_used, 'неправильная последовательность передачи топлива'\n",
    "            not_used.remove(cur)\n",
    "            asp_list.insert(0,cur)\n",
    "            asp_engines += lst[cur].engines\n",
    "        asp_lists.insert(0,[asp_list,asp_engines])\n",
    "    # вычисляем время работы 1 ступени для каждого asp_list-а\n",
    "    for i in range(len(asp_lists)):\n",
    "        asp_lists[i].append(lst[asp_lists[i][0][-1]].m_f/asp_lists[i][1].consumption)\n",
    "    # проверяем, чтобы у крайней ступени было минимальное время\n",
    "    last_time = asp_lists[-1][2]\n",
    "    for asp_meta_list in asp_lists[:-1]:\n",
    "        assert asp_meta_list[2]>last_time, 'ступень '+\\\n",
    "            str(len(stages)-1)+'-'+str(asp_meta_list[0][-1])+' работает слижком быстро'\n",
    "    # формируем ступень и остаток\n",
    "    tot_constr = lst[asp_lists[-1][0][-1]].m_c\n",
    "    tot_engines = copy(null_engine)\n",
    "    tot_fuel = 0\n",
    "    for asp_meta_list in asp_lists:\n",
    "        tot_engines+=asp_meta_list[1]\n",
    "        asp_fuel = asp_meta_list[1].consumption*last_time\n",
    "        tot_fuel+=asp_fuel\n",
    "        lst[asp_meta_list[0][-1]].m_f-=asp_fuel\n",
    "    assert lst[asp_lists[-1][0][-1]].m_f<1\n",
    "    del lst[-1]\n",
    "    return stage(tot_constr,tot_fuel,tot_engines)\n",
    "\n",
    "def build(*stages):\n",
    "    stages = list(stages)\n",
    "    for i in range(len(stages)):\n",
    "        if type(stages[i])!=list:\n",
    "            stages[i] = [stages[i]]\n",
    "            \n",
    "    building = []\n",
    "    while len(stages):\n",
    "        building.insert(0,build_stage(stages))\n",
    "    return building"
   ]
  },
  {
   "cell_type": "code",
   "execution_count": 12,
   "metadata": {
    "ExecuteTime": {
     "end_time": "2020-04-01T16:34:47.559640Z",
     "start_time": "2020-04-01T16:34:47.424632Z"
    },
    "scrolled": false
   },
   "outputs": [
    {
     "data": {
      "text/plain": [
       "[stage(450.0, 1050, make_engine(0.0, 163.0, 192.0, 140, 165, 0) # 118.6)]"
      ]
     },
     "execution_count": 12,
     "metadata": {},
     "output_type": "execute_result"
    }
   ],
   "source": [
    "build(st(0,0,блоха))"
   ]
  },
  {
   "cell_type": "code",
   "execution_count": 13,
   "metadata": {
    "ExecuteTime": {
     "end_time": "2020-04-01T16:34:47.668646Z",
     "start_time": "2020-04-01T16:34:47.568640Z"
    },
    "scrolled": true
   },
   "outputs": [
    {
     "data": {
      "text/plain": [
       "[stage(900.0, 2100, make_engine(0.0, 326.0, 384.0, 140, 165, 0) # 237.2),\n",
       " stage(4500, 19500, make_engine(0.0, 594.0, 670.0, 195, 220, 0) # 310.4)]"
      ]
     },
     "execution_count": 13,
     "metadata": {},
     "output_type": "execute_result"
    }
   ],
   "source": [
    "build(2*st(0,0,блоха),st(0,0,булава))"
   ]
  },
  {
   "cell_type": "code",
   "execution_count": 14,
   "metadata": {
    "ExecuteTime": {
     "end_time": "2020-04-01T16:34:47.797653Z",
     "start_time": "2020-04-01T16:34:47.676647Z"
    },
    "scrolled": false
   },
   "outputs": [
    {
     "data": {
      "text/plain": [
       "[stage(4500, 16752, make_engine(0.0, 594.0, 670.0, 195, 220, 0) # 310.4),\n",
       " stage(900.0, 4848, make_engine(0.0, 920.0, 1054, 171.2, 196.2, 0) # 547.7)]"
      ]
     },
     "execution_count": 14,
     "metadata": {},
     "output_type": "execute_result"
    }
   ],
   "source": [
    "build([st(0,0,булава),2*st(0,0,блоха)])"
   ]
  },
  {
   "cell_type": "code",
   "execution_count": 15,
   "metadata": {
    "ExecuteTime": {
     "end_time": "2020-04-01T16:34:47.902659Z",
     "start_time": "2020-04-01T16:34:47.805654Z"
    }
   },
   "outputs": [
    {
     "data": {
      "text/plain": [
       "stage(900.0, 2100, make_engine(0.0, 326.0, 384.0, 140, 165, 0) # 237.2)"
      ]
     },
     "execution_count": 15,
     "metadata": {},
     "output_type": "execute_result"
    }
   ],
   "source": [
    "2*st(0,0,блоха)"
   ]
  },
  {
   "cell_type": "code",
   "execution_count": 16,
   "metadata": {
    "ExecuteTime": {
     "end_time": "2020-04-01T16:34:48.018666Z",
     "start_time": "2020-04-01T16:34:47.911660Z"
    }
   },
   "outputs": [
    {
     "data": {
      "text/plain": [
       "stage(4500, 19500, make_engine(0.0, 594.0, 670.0, 195, 220, 0) # 310.4)"
      ]
     },
     "execution_count": 16,
     "metadata": {},
     "output_type": "execute_result"
    }
   ],
   "source": [
    "st(0,0,булава)"
   ]
  },
  {
   "cell_type": "code",
   "execution_count": 17,
   "metadata": {
    "ExecuteTime": {
     "end_time": "2020-04-01T16:34:48.131673Z",
     "start_time": "2020-04-01T16:34:48.021666Z"
    }
   },
   "outputs": [],
   "source": [
    "from IPython.core.display import HTML\n",
    "global_g = 9.81\n",
    "\n",
    "class satge_info:\n",
    "    def __init__(self,m_i,m_f,dv,v_f,w_t,twr_i,twr_m,twr_f):\n",
    "        self.m_i   = m_i   # mass initial\n",
    "        self.m_f   = m_f   # mass final\n",
    "        self.dv    = dv    # delta v\n",
    "        self.v_f   = v_f   # v final\n",
    "        self.w_t   = w_t   # work_time\n",
    "        self.twr_i = twr_i # thrust to weight ratio initial\n",
    "        self.twr_m = twr_m # thrust to weight ratio mean\n",
    "        self.twr_f = twr_f # thrust to weight ratio final\n",
    "    def __repr__(self):\n",
    "        return 'stage_info('+\\\n",
    "            my_format(self.m_i)+', '+\\\n",
    "            my_format(self.m_f)+', '+\\\n",
    "            my_format(self.dv)+', '+\\\n",
    "            my_format(self.v_f)+', '+\\\n",
    "            my_format(self.w_t)+', '+\\\n",
    "            my_format(self.twr_i)+', '+\\\n",
    "            my_format(self.twr_m)+', '+\\\n",
    "            my_format(self.twr_f)+', '+\\\n",
    "        ')'\n",
    "            #'m_i='+\\  'dv='+  'twr_m='+  'twr_f='+\n",
    "    def html_row(self):\n",
    "        return '<tr>'+\\\n",
    "            '<td>'+my_format(self.m_i)+'</td>'+\\\n",
    "            '<td>'+my_format(self.m_f)+'</td>'+\\\n",
    "            '<td>'+my_format(self.dv)+'</td>'+\\\n",
    "            '<td>'+my_format(self.v_f)+'</td>'+\\\n",
    "            '<td>'+my_format(self.w_t)+'</td>'+\\\n",
    "            '<td>'+my_format(self.twr_i)+'</td>'+\\\n",
    "            '<td>'+my_format(self.twr_m)+'</td>'+\\\n",
    "            '<td>'+my_format(self.twr_f)+'</td>'+\\\n",
    "        '</tr>'\n",
    "    @staticmethod\n",
    "    def html_head():\n",
    "        return '<tr>'+\\\n",
    "            '<td>m_i,т</td>'+\\\n",
    "            '<td>m_f,т</td>'+\\\n",
    "            '<td>dv,м/с   </td>'+\\\n",
    "            '<td>v_f,м/с  </td>'+\\\n",
    "            '<td>w_t,с  </td>'+\\\n",
    "            '<td>twr_i,a/g</td>'+\\\n",
    "            '<td>twr_m,a/g</td>'+\\\n",
    "            '<td>twr_f,a/g</td>'+\\\n",
    "        '</tr>'\n",
    "        \n",
    "        \n",
    "\n",
    "def calc(*stages):\n",
    "    if len(stages)==1 and type(stages[0])==list:\n",
    "        stages = stages[0]\n",
    "    stages = list(stages)\n",
    "    \n",
    "    m_f_l = [] # mass final list\n",
    "    m_i_l = [] # mass initial list\n",
    "    cur_m = 0\n",
    "    for x in stages:\n",
    "        cur_m+=x.m_c\n",
    "        m_f_l.append(cur_m)\n",
    "        cur_m+=x.m_f\n",
    "        m_i_l.append(cur_m)\n",
    "    info = []\n",
    "    cur_v = 0\n",
    "    html_s = ''\n",
    "    for i in reversed(range(len(stages))):\n",
    "        en = stages[i].engines\n",
    "        m_i = m_i_l[i]\n",
    "        m_f = m_f_l[i]\n",
    "        dv = en.isp_max*log(m_i/m_f)*CONVERSION_FACTOR\n",
    "        cur_v+=dv\n",
    "        v_f = cur_v\n",
    "        w_t = (m_i-m_f)/en.consumption\n",
    "        twr_i = en.thrust_max/m_i/global_g\n",
    "        twr_f = en.thrust_max/m_f/global_g\n",
    "        twr_m = dv/w_t/global_g\n",
    "        stage = satge_info(m_i/1000,m_f/1000,dv,v_f,w_t,twr_i,twr_m,twr_f)\n",
    "        html_s = stage.html_row()+html_s\n",
    "        info.insert(0,stage)\n",
    "    display(HTML('<table>'+stage.html_head()+html_s+'</table>'))\n",
    "#    return info"
   ]
  },
  {
   "cell_type": "code",
   "execution_count": 18,
   "metadata": {
    "ExecuteTime": {
     "end_time": "2020-04-01T16:34:48.243679Z",
     "start_time": "2020-04-01T16:34:48.138673Z"
    }
   },
   "outputs": [
    {
     "data": {
      "text/html": [
       "<table><tr><td>m_i,т</td><td>m_f,т</td><td>dv,м/с   </td><td>v_f,м/с  </td><td>w_t,с  </td><td>twr_i,a/g</td><td>twr_m,a/g</td><td>twr_f,a/g</td></tr><tr><td>1.500</td><td>0.450</td><td>1949</td><td>1949</td><td>8.852</td><td>13.05</td><td>22.44</td><td>43.49</td></tr></table>"
      ],
      "text/plain": [
       "<IPython.core.display.HTML object>"
      ]
     },
     "metadata": {},
     "output_type": "display_data"
    }
   ],
   "source": [
    "calc(st(0,0,блоха))\n",
    "#     m_i,        m_f,    dv,     v_f,    w_t,    twr_i,  twr_m,  twr_f"
   ]
  },
  {
   "cell_type": "code",
   "execution_count": 19,
   "metadata": {
    "ExecuteTime": {
     "end_time": "2020-04-01T16:34:48.355685Z",
     "start_time": "2020-04-01T16:34:48.254680Z"
    }
   },
   "outputs": [
    {
     "data": {
      "text/html": [
       "<table><tr><td>m_i,т</td><td>m_f,т</td><td>dv,м/с   </td><td>v_f,м/с  </td><td>w_t,с  </td><td>twr_i,a/g</td><td>twr_m,a/g</td><td>twr_f,a/g</td></tr><tr><td>24.00</td><td>4.500</td><td>3613</td><td>3907</td><td>62.81</td><td>2.846</td><td>5.863</td><td>15.18</td></tr><tr><td>31.55</td><td>26.30</td><td>294.6</td><td>294.6</td><td>8.852</td><td>3.102</td><td>3.393</td><td>3.721</td></tr></table>"
      ],
      "text/plain": [
       "<IPython.core.display.HTML object>"
      ]
     },
     "metadata": {},
     "output_type": "display_data"
    }
   ],
   "source": [
    "calc(st(0,0,булава),5*st(0.01,0,блоха))\n",
    "#     m_i,        m_f,    dv,     v_f,    w_t,    twr_i,  twr_m,  twr_f"
   ]
  },
  {
   "cell_type": "code",
   "execution_count": 20,
   "metadata": {
    "ExecuteTime": {
     "end_time": "2020-04-01T16:34:48.580698Z",
     "start_time": "2020-04-01T16:34:48.362686Z"
    }
   },
   "outputs": [
    {
     "data": {
      "text/html": [
       "<table><tr><td>m_i,т</td><td>m_f,т</td><td>dv,м/с   </td><td>v_f,м/с  </td><td>w_t,с  </td><td>twr_i,a/g</td><td>twr_m,a/g</td><td>twr_f,a/g</td></tr><tr><td>2.750</td><td>0.750</td><td>4397</td><td>4397</td><td>112.8</td><td>2.224</td><td>3.973</td><td>8.155</td></tr></table>"
      ],
      "text/plain": [
       "<IPython.core.display.HTML object>"
      ]
     },
     "metadata": {},
     "output_type": "display_data"
    }
   ],
   "source": [
    "calc(st(0,2,терьер))"
   ]
  },
  {
   "cell_type": "code",
   "execution_count": 21,
   "metadata": {
    "ExecuteTime": {
     "end_time": "2020-04-01T16:34:48.824712Z",
     "start_time": "2020-04-01T16:34:48.584699Z"
    }
   },
   "outputs": [
    {
     "data": {
      "text/html": [
       "<table><tr><td>m_i,т</td><td>m_f,т</td><td>dv,м/с   </td><td>v_f,м/с  </td><td>w_t,с  </td><td>twr_i,a/g</td><td>twr_m,a/g</td><td>twr_f,a/g</td></tr><tr><td>3.750</td><td>1.750</td><td>2393</td><td>2393</td><td>29.20</td><td>5.844</td><td>8.352</td><td>12.52</td></tr></table>"
      ],
      "text/plain": [
       "<IPython.core.display.HTML object>"
      ]
     },
     "metadata": {},
     "output_type": "display_data"
    }
   ],
   "source": [
    "calc(st(0,2,вертлявый))"
   ]
  },
  {
   "cell_type": "code",
   "execution_count": 22,
   "metadata": {
    "ExecuteTime": {
     "end_time": "2020-04-01T16:34:49.049725Z",
     "start_time": "2020-04-01T16:34:48.832713Z"
    }
   },
   "outputs": [
    {
     "data": {
      "text/html": [
       "<table><tr><td>m_i,т</td><td>m_f,т</td><td>dv,м/с   </td><td>v_f,м/с  </td><td>w_t,с  </td><td>twr_i,a/g</td><td>twr_m,a/g</td><td>twr_f,a/g</td></tr><tr><td>3.836</td><td>1.836</td><td>2494</td><td>5627</td><td>112.8</td><td>1.594</td><td>2.253</td><td>3.331</td></tr><tr><td>12.53</td><td>6.526</td><td>2047</td><td>3133</td><td>87.61</td><td>1.750</td><td>2.382</td><td>3.358</td></tr><tr><td>19.76</td><td>14.14</td><td>640.1</td><td>1087</td><td>23.68</td><td>2.342</td><td>2.755</td><td>3.272</td></tr><tr><td>27.00</td><td>21.38</td><td>446.4</td><td>446.4</td><td>23.68</td><td>1.714</td><td>1.922</td><td>2.165</td></tr></table>"
      ],
      "text/plain": [
       "<IPython.core.display.HTML object>"
      ]
     },
     "metadata": {},
     "output_type": "display_data"
    }
   ],
   "source": [
    "calc(st(1.086,2,терьер),st(0.44,6,вертлявый),2*st(0.05,0,молот),2*st(0.05,0,молот))"
   ]
  },
  {
   "cell_type": "code",
   "execution_count": 23,
   "metadata": {
    "ExecuteTime": {
     "end_time": "2020-04-01T16:34:49.291739Z",
     "start_time": "2020-04-01T16:34:49.051725Z"
    }
   },
   "outputs": [
    {
     "data": {
      "text/html": [
       "<table><tr><td>m_i,т</td><td>m_f,т</td><td>dv,м/с   </td><td>v_f,м/с  </td><td>w_t,с  </td><td>twr_i,a/g</td><td>twr_m,a/g</td><td>twr_f,a/g</td></tr><tr><td>3.836</td><td>1.836</td><td>2494</td><td>5570</td><td>112.8</td><td>1.594</td><td>2.253</td><td>3.331</td></tr><tr><td>12.53</td><td>6.526</td><td>2047</td><td>3077</td><td>87.61</td><td>1.750</td><td>2.382</td><td>3.358</td></tr><tr><td>27.00</td><td>15.76</td><td>1030</td><td>1030</td><td>39.47</td><td>2.057</td><td>2.660</td><td>3.524</td></tr></table>"
      ],
      "text/plain": [
       "<IPython.core.display.HTML object>"
      ]
     },
     "metadata": {},
     "output_type": "display_data"
    }
   ],
   "source": [
    "calc(st(1.086,2,терьер),st(0.44,6,вертлявый),4*st(0.05,0,молот.thrust_lim(0.6)))"
   ]
  },
  {
   "cell_type": "code",
   "execution_count": 24,
   "metadata": {
    "ExecuteTime": {
     "end_time": "2020-04-01T16:34:49.397745Z",
     "start_time": "2020-04-01T16:34:49.300739Z"
    }
   },
   "outputs": [
    {
     "data": {
      "text/html": [
       "<table><tr><td>m_i,т</td><td>m_f,т</td><td>dv,м/с   </td><td>v_f,м/с  </td><td>w_t,с  </td><td>twr_i,a/g</td><td>twr_m,a/g</td><td>twr_f,a/g</td></tr><tr><td>3.836</td><td>1.836</td><td>2494</td><td>5443</td><td>112.8</td><td>1.594</td><td>2.253</td><td>3.331</td></tr><tr><td>10.90</td><td>6.526</td><td>1612</td><td>2949</td><td>63.93</td><td>2.010</td><td>2.570</td><td>3.358</td></tr><tr><td>27.00</td><td>14.14</td><td>1338</td><td>1338</td><td>23.68</td><td>4.240</td><td>5.758</td><td>8.097</td></tr></table>"
      ],
      "text/plain": [
       "<IPython.core.display.HTML object>"
      ]
     },
     "metadata": {},
     "output_type": "display_data"
    }
   ],
   "source": [
    "calc(build(st(1.086,2,терьер),[st(0.44,6,вертлявый),4*st(0.05,0,молот.thrust_lim(1))]))"
   ]
  },
  {
   "cell_type": "code",
   "execution_count": 25,
   "metadata": {
    "ExecuteTime": {
     "end_time": "2020-04-01T16:34:49.500751Z",
     "start_time": "2020-04-01T16:34:49.399745Z"
    }
   },
   "outputs": [
    {
     "data": {
      "text/html": [
       "<table><tr><td>m_i,т</td><td>m_f,т</td><td>dv,м/с   </td><td>v_f,м/с  </td><td>w_t,с  </td><td>twr_i,a/g</td><td>twr_m,a/g</td><td>twr_f,a/g</td></tr><tr><td>3.836</td><td>1.836</td><td>2494</td><td>5340</td><td>112.8</td><td>1.594</td><td>2.253</td><td>3.331</td></tr><tr><td>9.823</td><td>6.526</td><td>1284</td><td>2846</td><td>48.14</td><td>2.231</td><td>2.718</td><td>3.358</td></tr><tr><td>27.00</td><td>13.06</td><td>1562</td><td>1562</td><td>39.47</td><td>2.869</td><td>4.036</td><td>5.932</td></tr></table>"
      ],
      "text/plain": [
       "<IPython.core.display.HTML object>"
      ]
     },
     "metadata": {},
     "output_type": "display_data"
    }
   ],
   "source": [
    "calc(build(st(1.086,2,терьер),[st(0.44,6,вертлявый),4*st(0.05,0,молот.thrust_lim(0.6))]))"
   ]
  },
  {
   "cell_type": "code",
   "execution_count": 26,
   "metadata": {
    "ExecuteTime": {
     "end_time": "2020-04-01T16:34:49.624758Z",
     "start_time": "2020-04-01T16:34:49.503751Z"
    }
   },
   "outputs": [
    {
     "data": {
      "text/html": [
       "<table><tr><td>m_i,т</td><td>m_f,т</td><td>dv,м/с   </td><td>v_f,м/с  </td><td>w_t,с  </td><td>twr_i,a/g</td><td>twr_m,a/g</td><td>twr_f,a/g</td></tr><tr><td>0.380</td><td>0.180</td><td>2309</td><td>5420</td><td>309.0</td><td>0.537</td><td>0.762</td><td>1.133</td></tr><tr><td>7.951</td><td>2.951</td><td>3111</td><td>3111</td><td>73.00</td><td>2.756</td><td>4.345</td><td>7.427</td></tr></table>"
      ],
      "text/plain": [
       "<IPython.core.display.HTML object>"
      ]
     },
     "metadata": {},
     "output_type": "display_data"
    }
   ],
   "source": [
    "#zonder\n",
    "calc(st(0.135,0.2,муравей),st(0.446,5,вертлявый))"
   ]
  },
  {
   "cell_type": "code",
   "execution_count": 27,
   "metadata": {
    "ExecuteTime": {
     "end_time": "2020-04-01T16:34:49.725764Z",
     "start_time": "2020-04-01T16:34:49.632758Z"
    }
   },
   "outputs": [
    {
     "data": {
      "text/html": [
       "<table><tr><td>m_i,т</td><td>m_f,т</td><td>dv,м/с   </td><td>v_f,м/с  </td><td>w_t,с  </td><td>twr_i,a/g</td><td>twr_m,a/g</td><td>twr_f,a/g</td></tr><tr><td>15.25</td><td>7.250</td><td>2553</td><td>6700</td><td>109.9</td><td>1.671</td><td>2.369</td><td>3.515</td></tr><tr><td>75.75</td><td>27.75</td><td>3054</td><td>4147</td><td>97.32</td><td>2.019</td><td>3.199</td><td>5.510</td></tr><tr><td>92.45</td><td>80.45</td><td>425.8</td><td>1093</td><td>19.04</td><td>2.128</td><td>2.279</td><td>2.445</td></tr><tr><td>109.2</td><td>97.15</td><td>358.3</td><td>667.5</td><td>15.64</td><td>2.204</td><td>2.335</td><td>2.476</td></tr><tr><td>125.8</td><td>113.8</td><td>309.2</td><td>309.2</td><td>13.27</td><td>2.260</td><td>2.375</td><td>2.498</td></tr></table>"
      ],
      "text/plain": [
       "<IPython.core.display.HTML object>"
      ]
     },
     "metadata": {},
     "output_type": "display_data"
    }
   ],
   "source": [
    "# kerbal-x\n",
    "calc(build(st(4.5,8,пудель),\n",
    "[st(0.5,48,грохот),\n",
    "     2*st(0.1,6,вертлявый,1),\n",
    "     2*st(0.1,6,вертлявый,1),\n",
    "     2*st(0.1,6,вертлявый,1)\n",
    "]))"
   ]
  },
  {
   "cell_type": "code",
   "execution_count": 28,
   "metadata": {
    "ExecuteTime": {
     "end_time": "2020-04-01T16:34:49.833770Z",
     "start_time": "2020-04-01T16:34:49.728764Z"
    }
   },
   "outputs": [
    {
     "data": {
      "text/html": [
       "<table><tr><td>m_i,т</td><td>m_f,т</td><td>dv,м/с   </td><td>v_f,м/с  </td><td>w_t,с  </td><td>twr_i,a/g</td><td>twr_m,a/g</td><td>twr_f,a/g</td></tr><tr><td>15.25</td><td>7.250</td><td>2553</td><td>6822</td><td>109.9</td><td>1.671</td><td>2.369</td><td>3.515</td></tr><tr><td>78.75</td><td>30.75</td><td>3137</td><td>4269</td><td>80.05</td><td>2.589</td><td>3.994</td><td>6.630</td></tr><tr><td>95.45</td><td>83.45</td><td>443.2</td><td>1132</td><td>16.29</td><td>2.595</td><td>2.773</td><td>2.968</td></tr><tr><td>112.2</td><td>100.2</td><td>370.5</td><td>688.8</td><td>13.74</td><td>2.600</td><td>2.749</td><td>2.911</td></tr><tr><td>128.8</td><td>116.8</td><td>318.3</td><td>318.3</td><td>11.87</td><td>2.603</td><td>2.732</td><td>2.870</td></tr></table>"
      ],
      "text/plain": [
       "<IPython.core.display.HTML object>"
      ]
     },
     "metadata": {},
     "output_type": "display_data"
    }
   ],
   "source": [
    "# kerbal-x\n",
    "calc(build(st(4.5,8,пудель),\n",
    "[st(0.5,48,носорог),\n",
    "     2*st(0.1,6,вертлявый,1),\n",
    "     2*st(0.1,6,вертлявый,1),\n",
    "     2*st(0.1,6,вертлявый,1)\n",
    "]))"
   ]
  },
  {
   "cell_type": "code",
   "execution_count": 29,
   "metadata": {
    "ExecuteTime": {
     "end_time": "2020-04-01T16:34:49.932776Z",
     "start_time": "2020-04-01T16:34:49.835770Z"
    }
   },
   "outputs": [
    {
     "data": {
      "text/html": [
       "<table><tr><td>m_i,т</td><td>m_f,т</td><td>dv,м/с   </td><td>v_f,м/с  </td><td>w_t,с  </td><td>twr_i,a/g</td><td>twr_m,a/g</td><td>twr_f,a/g</td></tr><tr><td>4.730</td><td>2.730</td><td>1725</td><td>3921</td><td>29.20</td><td>4.633</td><td>6.023</td><td>8.028</td></tr><tr><td>9.880</td><td>7.060</td><td>1055</td><td>2195</td><td>41.17</td><td>2.218</td><td>2.612</td><td>3.104</td></tr><tr><td>16.68</td><td>10.69</td><td>1140</td><td>1140</td><td>46.43</td><td>2.021</td><td>2.504</td><td>3.153</td></tr></table>"
      ],
      "text/plain": [
       "<IPython.core.display.HTML object>"
      ]
     },
     "metadata": {},
     "output_type": "display_data"
    }
   ],
   "source": [
    "# odin\n",
    "calc(build(st(0.98,2,вертлявый),[st(0.08,6,вертлявый),st(0.055,0,молот.thrust_lim(0.51))]))"
   ]
  },
  {
   "cell_type": "code",
   "execution_count": 30,
   "metadata": {
    "ExecuteTime": {
     "end_time": "2020-04-01T16:34:50.088785Z",
     "start_time": "2020-04-01T16:34:49.941776Z"
    }
   },
   "outputs": [
    {
     "data": {
      "text/html": [
       "<table><tr><td>m_i,т</td><td>m_f,т</td><td>dv,м/с   </td><td>v_f,м/с  </td><td>w_t,с  </td><td>twr_i,a/g</td><td>twr_m,a/g</td><td>twr_f,a/g</td></tr><tr><td>5.855</td><td>2.855</td><td>2255</td><td>4034</td><td>43.80</td><td>3.743</td><td>5.247</td><td>7.677</td></tr><tr><td>9.880</td><td>8.060</td><td>639.1</td><td>1780</td><td>26.57</td><td>2.218</td><td>2.452</td><td>2.719</td></tr><tr><td>16.68</td><td>10.69</td><td>1140</td><td>1140</td><td>46.43</td><td>2.021</td><td>2.504</td><td>3.153</td></tr></table>"
      ],
      "text/plain": [
       "<IPython.core.display.HTML object>"
      ]
     },
     "metadata": {},
     "output_type": "display_data"
    }
   ],
   "source": [
    "# odin\n",
    "calc(build(st(0.98,3,вертлявый),[st(0.08,5,вертлявый),st(0.055,0,молот.thrust_lim(0.51))]))"
   ]
  },
  {
   "cell_type": "code",
   "execution_count": 31,
   "metadata": {
    "ExecuteTime": {
     "end_time": "2020-04-01T16:34:50.276795Z",
     "start_time": "2020-04-01T16:34:50.095785Z"
    }
   },
   "outputs": [
    {
     "data": {
      "text/html": [
       "<table><tr><td>m_i,т</td><td>m_f,т</td><td>dv,м/с   </td><td>v_f,м/с  </td><td>w_t,с  </td><td>twr_i,a/g</td><td>twr_m,a/g</td><td>twr_f,a/g</td></tr><tr><td>6.980</td><td>2.980</td><td>2672</td><td>4084</td><td>58.40</td><td>3.140</td><td>4.663</td><td>7.355</td></tr><tr><td>9.880</td><td>9.060</td><td>272.0</td><td>1412</td><td>11.97</td><td>2.218</td><td>2.316</td><td>2.419</td></tr><tr><td>16.68</td><td>10.69</td><td>1140</td><td>1140</td><td>46.43</td><td>2.021</td><td>2.504</td><td>3.153</td></tr></table>"
      ],
      "text/plain": [
       "<IPython.core.display.HTML object>"
      ]
     },
     "metadata": {},
     "output_type": "display_data"
    }
   ],
   "source": [
    "# odin\n",
    "calc(build(st(0.98,4,вертлявый),[st(0.08,4,вертлявый),st(0.055,0,молот.thrust_lim(0.51))]))"
   ]
  },
  {
   "cell_type": "code",
   "execution_count": 32,
   "metadata": {
    "ExecuteTime": {
     "end_time": "2020-04-01T16:34:50.398802Z",
     "start_time": "2020-04-01T16:34:50.278795Z"
    }
   },
   "outputs": [
    {
     "data": {
      "text/html": [
       "<table><tr><td>m_i,т</td><td>m_f,т</td><td>dv,м/с   </td><td>v_f,м/с  </td><td>w_t,с  </td><td>twr_i,a/g</td><td>twr_m,a/g</td><td>twr_f,a/g</td></tr><tr><td>8.320</td><td>3.500</td><td>2718</td><td>4011</td><td>70.38</td><td>2.634</td><td>3.937</td><td>6.262</td></tr><tr><td>15.12</td><td>9.133</td><td>1293</td><td>1293</td><td>46.43</td><td>2.229</td><td>2.839</td><td>3.692</td></tr></table>"
      ],
      "text/plain": [
       "<IPython.core.display.HTML object>"
      ]
     },
     "metadata": {},
     "output_type": "display_data"
    }
   ],
   "source": [
    "# odin\n",
    "calc(build([st(1,8,вертлявый),st(0.055,0,молот.thrust_lim(0.51))]))"
   ]
  },
  {
   "cell_type": "code",
   "execution_count": null,
   "metadata": {},
   "outputs": [],
   "source": []
  },
  {
   "cell_type": "code",
   "execution_count": null,
   "metadata": {},
   "outputs": [],
   "source": []
  },
  {
   "cell_type": "code",
   "execution_count": 33,
   "metadata": {
    "ExecuteTime": {
     "end_time": "2020-04-01T16:34:50.511809Z",
     "start_time": "2020-04-01T16:34:50.408803Z"
    }
   },
   "outputs": [
    {
     "data": {
      "text/html": [
       "<table><tr><td>m_i,т</td><td>m_f,т</td><td>dv,м/с   </td><td>v_f,м/с  </td><td>w_t,с  </td><td>twr_i,a/g</td><td>twr_m,a/g</td><td>twr_f,a/g</td></tr><tr><td>232.0</td><td>104.0</td><td>2479</td><td>7297</td><td>65.92</td><td>2.636</td><td>3.834</td><td>5.881</td></tr><tr><td>803.0</td><td>339.0</td><td>2665</td><td>4818</td><td>119.5</td><td>1.523</td><td>2.273</td><td>3.608</td></tr><tr><td>1993</td><td>993.0</td><td>2153</td><td>2153</td><td>193.1</td><td>0.818</td><td>1.136</td><td>1.642</td></tr></table>"
      ],
      "text/plain": [
       "<IPython.core.display.HTML object>"
      ]
     },
     "metadata": {},
     "output_type": "display_data"
    }
   ],
   "source": [
    "calc(build(st(64,128,6*вектор),st(1,256+128+8*10,(8+4)*вектор),st(1,1000,16*вектор)))"
   ]
  },
  {
   "cell_type": "code",
   "execution_count": 35,
   "metadata": {
    "ExecuteTime": {
     "end_time": "2020-04-01T16:34:59.457320Z",
     "start_time": "2020-04-01T16:34:59.452320Z"
    }
   },
   "outputs": [],
   "source": [
    "NoneType = type(None)\n",
    "builtin_function_or_method = type(getattr)\n",
    "function = type(lambda x:x)\n",
    "module = type(copy)"
   ]
  },
  {
   "cell_type": "code",
   "execution_count": 36,
   "metadata": {
    "ExecuteTime": {
     "end_time": "2020-04-01T16:35:00.362372Z",
     "start_time": "2020-04-01T16:35:00.354372Z"
    }
   },
   "outputs": [
    {
     "data": {
      "application/javascript": [
       "window.executePython = function(python) {\n",
       "    return new Promise((resolve, reject) => {\n",
       "        var callbacks = {\n",
       "            iopub: {\n",
       "                output: (data) => resolve(data.content.text.trim())\n",
       "            }\n",
       "        };\n",
       "        Jupyter.notebook.kernel.execute(`print(${python})`, callbacks);    \n",
       "    });\n",
       "}\n"
      ],
      "text/plain": [
       "<IPython.core.display.Javascript object>"
      ]
     },
     "metadata": {},
     "output_type": "display_data"
    }
   ],
   "source": [
    "%%javascript\n",
    "window.executePython = function(python) {\n",
    "    return new Promise((resolve, reject) => {\n",
    "        var callbacks = {\n",
    "            iopub: {\n",
    "                output: (data) => resolve(data.content.text.trim())\n",
    "            }\n",
    "        };\n",
    "        Jupyter.notebook.kernel.execute(`print(${python})`, callbacks);    \n",
    "    });\n",
    "}"
   ]
  },
  {
   "cell_type": "code",
   "execution_count": null,
   "metadata": {},
   "outputs": [],
   "source": []
  },
  {
   "cell_type": "code",
   "execution_count": 37,
   "metadata": {
    "ExecuteTime": {
     "end_time": "2020-04-01T16:35:01.427433Z",
     "start_time": "2020-04-01T16:35:01.417432Z"
    }
   },
   "outputs": [
    {
     "data": {
      "text/html": [
       "\n",
       "<div style=\"background-color:gainsboro; border:solid black; width:300px; padding:20px;\">\n",
       "Variable Name: <input type=\"text\" id=\"var_name\" value=\"foo\"><br>\n",
       "Variable Value: <input type=\"text\" id=\"var_value\" value=\"bar\"><br>\n",
       "<button onclick=\"set_value()\">Set Value</button>\n",
       "</div>\n",
       "\n",
       "<script type=\"text/Javascript\">\n",
       "    function set_value(){\n",
       "        var var_name = document.getElementById('var_name').value;\n",
       "        var var_value = document.getElementById('var_value').value;\n",
       "        var command = var_name + \" = '\" + var_value + \"'\";\n",
       "        console.log(\"Executing Command: \" + command);\n",
       "        \n",
       "        var kernel = IPython.notebook.kernel;\n",
       "        kernel.execute(command);\n",
       "    }\n",
       "</script>\n"
      ],
      "text/plain": [
       "<IPython.core.display.HTML object>"
      ]
     },
     "metadata": {},
     "output_type": "display_data"
    }
   ],
   "source": [
    "from IPython.core.display import HTML\n",
    "\n",
    "input_form = \"\"\"\n",
    "<div style=\"background-color:gainsboro; border:solid black; width:300px; padding:20px;\">\n",
    "Variable Name: <input type=\"text\" id=\"var_name\" value=\"foo\"><br>\n",
    "Variable Value: <input type=\"text\" id=\"var_value\" value=\"bar\"><br>\n",
    "<button onclick=\"set_value()\">Set Value</button>\n",
    "</div>\n",
    "\"\"\"\n",
    "\n",
    "javascript = \"\"\"\n",
    "<script type=\"text/Javascript\">\n",
    "    function set_value(){\n",
    "        var var_name = document.getElementById('var_name').value;\n",
    "        var var_value = document.getElementById('var_value').value;\n",
    "        var command = var_name + \" = '\" + var_value + \"'\";\n",
    "        console.log(\"Executing Command: \" + command);\n",
    "        \n",
    "        var kernel = IPython.notebook.kernel;\n",
    "        kernel.execute(command);\n",
    "    }\n",
    "</script>\n",
    "\"\"\"\n",
    "\n",
    "display(HTML(input_form + javascript))"
   ]
  },
  {
   "cell_type": "code",
   "execution_count": 39,
   "metadata": {
    "ExecuteTime": {
     "end_time": "2020-04-01T16:35:07.840800Z",
     "start_time": "2020-04-01T16:35:07.833799Z"
    }
   },
   "outputs": [
    {
     "data": {
      "text/plain": [
       "'bar'"
      ]
     },
     "execution_count": 39,
     "metadata": {},
     "output_type": "execute_result"
    }
   ],
   "source": [
    "foo"
   ]
  },
  {
   "cell_type": "code",
   "execution_count": 44,
   "metadata": {
    "ExecuteTime": {
     "end_time": "2020-04-01T16:52:42.939894Z",
     "start_time": "2020-04-01T16:52:42.927893Z"
    }
   },
   "outputs": [
    {
     "name": "stdout",
     "output_type": "stream",
     "text": [
      "Help on package numpy.linalg in numpy:\n",
      "\n",
      "NAME\n",
      "    numpy.linalg\n",
      "\n",
      "DESCRIPTION\n",
      "    Core Linear Algebra Tools\n",
      "    -------------------------\n",
      "    Linear algebra basics:\n",
      "    \n",
      "    - norm            Vector or matrix norm\n",
      "    - inv             Inverse of a square matrix\n",
      "    - solve           Solve a linear system of equations\n",
      "    - det             Determinant of a square matrix\n",
      "    - lstsq           Solve linear least-squares problem\n",
      "    - pinv            Pseudo-inverse (Moore-Penrose) calculated using a singular\n",
      "                      value decomposition\n",
      "    - matrix_power    Integer power of a square matrix\n",
      "    \n",
      "    Eigenvalues and decompositions:\n",
      "    \n",
      "    - eig             Eigenvalues and vectors of a square matrix\n",
      "    - eigh            Eigenvalues and eigenvectors of a Hermitian matrix\n",
      "    - eigvals         Eigenvalues of a square matrix\n",
      "    - eigvalsh        Eigenvalues of a Hermitian matrix\n",
      "    - qr              QR decomposition of a matrix\n",
      "    - svd             Singular value decomposition of a matrix\n",
      "    - cholesky        Cholesky decomposition of a matrix\n",
      "    \n",
      "    Tensor operations:\n",
      "    \n",
      "    - tensorsolve     Solve a linear tensor equation\n",
      "    - tensorinv       Calculate an inverse of a tensor\n",
      "    \n",
      "    Exceptions:\n",
      "    \n",
      "    - LinAlgError     Indicates a failed linear algebra operation\n",
      "\n",
      "PACKAGE CONTENTS\n",
      "    _umath_linalg\n",
      "    info\n",
      "    lapack_lite\n",
      "    linalg\n",
      "    setup\n",
      "    tests (package)\n",
      "\n",
      "DATA\n",
      "    absolute_import = _Feature((2, 5, 0, 'alpha', 1), (3, 0, 0, 'alpha', 0...\n",
      "    division = _Feature((2, 2, 0, 'alpha', 2), (3, 0, 0, 'alpha', 0), 8192...\n",
      "    print_function = _Feature((2, 6, 0, 'alpha', 2), (3, 0, 0, 'alpha', 0)...\n",
      "    test = <numpy.testing._private.pytesttester.PytestTester object>\n",
      "\n",
      "FILE\n",
      "    c:\\programdata\\miniconda3\\lib\\site-packages\\numpy\\linalg\\__init__.py\n",
      "\n",
      "\n"
     ]
    }
   ],
   "source": [
    "import numpy as np\n",
    "help(np.linalg)"
   ]
  },
  {
   "cell_type": "code",
   "execution_count": 46,
   "metadata": {
    "ExecuteTime": {
     "end_time": "2020-04-01T18:07:46.775438Z",
     "start_time": "2020-04-01T18:07:46.551425Z"
    }
   },
   "outputs": [],
   "source": [
    "from Cython.Compiler.Version import version as cython_version"
   ]
  },
  {
   "cell_type": "code",
   "execution_count": 52,
   "metadata": {
    "ExecuteTime": {
     "end_time": "2020-04-01T18:23:55.439811Z",
     "start_time": "2020-04-01T18:23:55.412809Z"
    }
   },
   "outputs": [
    {
     "name": "stdout",
     "output_type": "stream",
     "text": [
      " ’®¬ ў гбва®©бвўҐ C Ё¬ҐҐв ¬ҐвЄг sys\n",
      " ‘ҐаЁ©­л© ­®¬Ґа в®¬ : 581B-FAA0\n",
      "\n",
      " ‘®¤Ґа¦Ё¬®Ґ Ї ЇЄЁ C:\\Users\\feelus\\Repos\\__foreign\\numpy\n",
      "\n",
      "01.04.2020  20:53    <DIR>          .\n",
      "01.04.2020  20:53    <DIR>          ..\n",
      "01.04.2020  20:34    <DIR>          .circleci\n",
      "01.04.2020  20:34               235 .codecov.yml\n",
      "01.04.2020  20:34                75 .coveragerc\n",
      "01.04.2020  20:34                19 .ctags.d\n",
      "01.04.2020  20:34    <DIR>          .dependabot\n",
      "01.04.2020  21:10    <DIR>          .git\n",
      "01.04.2020  20:34               133 .gitattributes\n",
      "01.04.2020  20:34    <DIR>          .github\n",
      "01.04.2020  20:34             3я998 .gitignore\n",
      "01.04.2020  20:34               218 .gitmodules\n",
      "01.04.2020  21:13    <DIR>          .idea\n",
      "01.04.2020  20:34               573 .lgtm.yml\n",
      "01.04.2020  20:34            18я631 .mailmap\n",
      "01.04.2020  20:34             3я188 .travis.yml\n",
      "01.04.2020  20:34             9я677 azure-pipelines.yml\n",
      "01.04.2020  20:34             2я576 azure-steps-windows.yml\n",
      "01.04.2020  20:34    <DIR>          benchmarks\n",
      "01.04.2020  20:34    <DIR>          branding\n",
      "01.04.2020  21:04               121 cythonize.dat\n",
      "01.04.2020  20:34    <DIR>          doc\n",
      "01.04.2020  20:34                39 doc_requirements.txt\n",
      "01.04.2020  20:34             5я264 INSTALL.rst.txt\n",
      "01.04.2020  20:34             1я543 LICENSE.txt\n",
      "01.04.2020  20:34               765 LICENSES_bundled.txt\n",
      "01.04.2020  20:34             1я777 MANIFEST.in\n",
      "01.04.2020  20:34    <DIR>          numpy\n",
      "01.04.2020  20:34             7я028 pavement.py\n",
      "01.04.2020  20:34             1я867 pyproject.toml\n",
      "01.04.2020  20:34               549 pytest.ini\n",
      "01.04.2020  20:34             2я051 README.md\n",
      "01.04.2020  20:34            17я852 runtests.py\n",
      "01.04.2020  20:34            17я388 setup.py\n",
      "01.04.2020  20:34             2я568 shippable.yml\n",
      "01.04.2020  20:34            11я790 site.cfg.example\n",
      "01.04.2020  20:34               234 test_requirements.txt\n",
      "01.04.2020  20:34             3я251 THANKS.txt\n",
      "01.04.2020  21:10    <DIR>          tools\n",
      "01.04.2020  20:34             1я450 tox.ini\n",
      "01.04.2020  20:53    <DIR>          venv\n",
      "              28 д ©«®ў        114я860 Ў ©в\n",
      "              13 Ї Ї®Є  50я637я377я536 Ў ©в бў®Ў®¤­®\n"
     ]
    }
   ],
   "source": [
    "import os\n",
    "os.chdir(r'C:\\Users\\feelus\\Repos\\__foreign\\numpy')\n",
    "!dir"
   ]
  },
  {
   "cell_type": "code",
   "execution_count": 54,
   "metadata": {
    "ExecuteTime": {
     "end_time": "2020-04-01T18:39:17.183643Z",
     "start_time": "2020-04-01T18:38:57.207501Z"
    },
    "scrolled": false
   },
   "outputs": [
    {
     "name": "stdout",
     "output_type": "stream",
     "text": [
      "2223\n",
      "numpy/random\\_bounded_integers.pxd.in has not changed\n",
      "Processing numpy/random\\bit_generator.pyx\n",
      "Processing numpy/random\\mtrand.pyx\n",
      "Processing numpy/random\\_bounded_integers.pyx.in\n",
      "Processing numpy/random\\_common.pyx\n",
      "Processing numpy/random\\_generator.pyx\n",
      "Processing numpy/random\\_mt19937.pyx\n",
      "Processing numpy/random\\_pcg64.pyx\n",
      "Processing numpy/random\\_philox.pyx\n",
      "Processing numpy/random\\_sfc64.pyx\n",
      "Cythonizing sources\n",
      "blas_opt_info:\n",
      "blas_mkl_info:\n",
      "No module named 'numpy.distutils._msvccompiler' in numpy.distutils; trying from distutils\n",
      "customize MSVCCompiler\n",
      "  libraries mkl_rt not found in ['C:\\\\ProgramData\\\\Miniconda3\\\\lib', 'C:\\\\', 'C:\\\\ProgramData\\\\Miniconda3\\\\libs']\n",
      "  NOT AVAILABLE\n",
      "\n",
      "blis_info:\n",
      "  libraries blis not found in ['C:\\\\ProgramData\\\\Miniconda3\\\\lib', 'C:\\\\', 'C:\\\\ProgramData\\\\Miniconda3\\\\libs']\n",
      "  NOT AVAILABLE\n",
      "\n",
      "openblas_info:\n",
      "  libraries openblas not found in ['C:\\\\ProgramData\\\\Miniconda3\\\\lib', 'C:\\\\', 'C:\\\\ProgramData\\\\Miniconda3\\\\libs']\n"
     ]
    },
    {
     "name": "stderr",
     "output_type": "stream",
     "text": [
      "Running from numpy source directory.\n",
      "Traceback (most recent call last):\n",
      "  File \"setup.py\", line 488, in <module>\n",
      "    setup_package()\n",
      "  File \"setup.py\", line 480, in setup_package\n",
      "    setup(**metadata)\n",
      "  File \"C:\\Users\\feelus\\Repos\\__foreign\\numpy\\numpy\\distutils\\core.py\", line 135, in setup\n",
      "    config = configuration()\n",
      "  File \"setup.py\", line 162, in configuration\n",
      "    config.add_subpackage('numpy')\n",
      "  File \"C:\\Users\\feelus\\Repos\\__foreign\\numpy\\numpy\\distutils\\misc_util.py\", line 1020, in add_subpackage\n",
      "    caller_level = 2)\n",
      "  File \"C:\\Users\\feelus\\Repos\\__foreign\\numpy\\numpy\\distutils\\misc_util.py\", line 989, in get_subpackage\n",
      "    caller_level = caller_level + 1)\n",
      "  File \"C:\\Users\\feelus\\Repos\\__foreign\\numpy\\numpy\\distutils\\misc_util.py\", line 926, in _get_configuration_from_setup_py\n",
      "    config = setup_module.configuration(*args)\n",
      "  File \"numpy\\setup.py\", line 8, in configuration\n",
      "    config.add_subpackage('core')\n",
      "  File \"C:\\Users\\feelus\\Repos\\__foreign\\numpy\\numpy\\distutils\\misc_util.py\", line 1020, in add_subpackage\n",
      "    caller_level = 2)\n",
      "  File \"C:\\Users\\feelus\\Repos\\__foreign\\numpy\\numpy\\distutils\\misc_util.py\", line 989, in get_subpackage\n",
      "    caller_level = caller_level + 1)\n",
      "  File \"C:\\Users\\feelus\\Repos\\__foreign\\numpy\\numpy\\distutils\\misc_util.py\", line 926, in _get_configuration_from_setup_py\n",
      "    config = setup_module.configuration(*args)\n",
      "  File \"numpy\\core\\setup.py\", line 754, in configuration\n",
      "    blas_info = get_info('blas_opt', 0)\n",
      "  File \"C:\\Users\\feelus\\Repos\\__foreign\\numpy\\numpy\\distutils\\system_info.py\", line 485, in get_info\n",
      "    return cl().get_info(notfound_action)\n",
      "  File \"C:\\Users\\feelus\\Repos\\__foreign\\numpy\\numpy\\distutils\\system_info.py\", line 746, in get_info\n",
      "    self.calc_info()\n",
      "  File \"C:\\Users\\feelus\\Repos\\__foreign\\numpy\\numpy\\distutils\\system_info.py\", line 1914, in calc_info\n",
      "    if self._calc_info(blas):\n",
      "  File \"C:\\Users\\feelus\\Repos\\__foreign\\numpy\\numpy\\distutils\\system_info.py\", line 1893, in _calc_info\n",
      "    return getattr(self, '_calc_info_{}'.format(name))()\n",
      "  File \"C:\\Users\\feelus\\Repos\\__foreign\\numpy\\numpy\\distutils\\system_info.py\", line 1844, in _calc_info_openblas\n",
      "    info = get_info('openblas')\n",
      "  File \"C:\\Users\\feelus\\Repos\\__foreign\\numpy\\numpy\\distutils\\system_info.py\", line 485, in get_info\n",
      "    return cl().get_info(notfound_action)\n",
      "  File \"C:\\Users\\feelus\\Repos\\__foreign\\numpy\\numpy\\distutils\\system_info.py\", line 746, in get_info\n",
      "    self.calc_info()\n",
      "  File \"C:\\Users\\feelus\\Repos\\__foreign\\numpy\\numpy\\distutils\\system_info.py\", line 2105, in calc_info\n",
      "    info = self._calc_info()\n",
      "  File \"C:\\Users\\feelus\\Repos\\__foreign\\numpy\\numpy\\distutils\\system_info.py\", line 2076, in _calc_info\n",
      "    f = new_fcompiler(c_compiler=c)\n",
      "  File \"C:\\Users\\feelus\\Repos\\__foreign\\numpy\\numpy\\distutils\\fcompiler\\__init__.py\", line 876, in new_fcompiler\n",
      "    load_all_fcompiler_classes()\n",
      "  File \"C:\\Users\\feelus\\Repos\\__foreign\\numpy\\numpy\\distutils\\fcompiler\\__init__.py\", line 777, in load_all_fcompiler_classes\n",
      "    __import__ (module_name)\n",
      "  File \"C:\\Users\\feelus\\Repos\\__foreign\\numpy\\numpy\\distutils\\fcompiler\\compaq.py\", line 54, in <module>\n",
      "    class CompaqVisualFCompiler(FCompiler):\n",
      "  File \"C:\\Users\\feelus\\Repos\\__foreign\\numpy\\numpy\\distutils\\fcompiler\\compaq.py\", line 78, in CompaqVisualFCompiler\n",
      "    m.initialize()\n",
      "  File \"C:\\Users\\feelus\\Repos\\__foreign\\numpy\\numpy\\distutils\\msvccompiler.py\", line 51, in initialize\n",
      "    os.environ['lib'] = _merge(environ_lib, os.environ['lib'])\n",
      "  File \"C:\\ProgramData\\Miniconda3\\lib\\os.py\", line 669, in __getitem__\n",
      "    raise KeyError(key) from None\n",
      "KeyError: 'lib'\n"
     ]
    }
   ],
   "source": [
    "!python setup.py build"
   ]
  },
  {
   "cell_type": "code",
   "execution_count": 1,
   "metadata": {
    "ExecuteTime": {
     "end_time": "2020-04-02T08:54:30.359041Z",
     "start_time": "2020-04-02T08:54:30.344040Z"
    }
   },
   "outputs": [
    {
     "name": "stdout",
     "output_type": "stream",
     "text": [
      "C:\\ProgramData\\Miniconda3\\python.exe\n"
     ]
    }
   ],
   "source": [
    "import sys\n",
    "\n",
    "print(sys.executable)"
   ]
  },
  {
   "cell_type": "code",
   "execution_count": 4,
   "metadata": {
    "ExecuteTime": {
     "end_time": "2020-04-02T08:55:10.379330Z",
     "start_time": "2020-04-02T08:55:10.368330Z"
    }
   },
   "outputs": [
    {
     "data": {
      "text/plain": [
       "(3, 6)"
      ]
     },
     "execution_count": 4,
     "metadata": {},
     "output_type": "execute_result"
    }
   ],
   "source": [
    "sys.version_info[:2]"
   ]
  },
  {
   "cell_type": "code",
   "execution_count": 8,
   "metadata": {
    "ExecuteTime": {
     "end_time": "2020-04-02T08:55:53.058771Z",
     "start_time": "2020-04-02T08:55:53.047771Z"
    }
   },
   "outputs": [
    {
     "data": {
      "text/plain": [
       "True"
      ]
     },
     "execution_count": 8,
     "metadata": {},
     "output_type": "execute_result"
    }
   ],
   "source": [
    "(1,2)<(1,3)"
   ]
  },
  {
   "cell_type": "code",
   "execution_count": null,
   "metadata": {},
   "outputs": [],
   "source": []
  },
  {
   "cell_type": "code",
   "execution_count": null,
   "metadata": {},
   "outputs": [],
   "source": []
  }
 ],
 "metadata": {
  "hide_input": false,
  "kernelspec": {
   "display_name": "Python 3",
   "language": "python",
   "name": "python3"
  },
  "language_info": {
   "codemirror_mode": {
    "name": "ipython",
    "version": 3
   },
   "file_extension": ".py",
   "mimetype": "text/x-python",
   "name": "python",
   "nbconvert_exporter": "python",
   "pygments_lexer": "ipython3",
   "version": "3.6.7"
  }
 },
 "nbformat": 4,
 "nbformat_minor": 2
}
