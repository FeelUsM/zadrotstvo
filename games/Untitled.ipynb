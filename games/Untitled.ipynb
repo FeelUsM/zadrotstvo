{
 "cells": [
  {
   "cell_type": "code",
   "execution_count": 33,
   "id": "personalized-entertainment",
   "metadata": {},
   "outputs": [
    {
     "data": {
      "text/plain": [
       "[{'name': 'паук', 'md': 0.02, 'Ihi': 290, 'Fhi': 2, 'Igr': 260, 'Fgr': 1.79, 'note': 'б-м'},\n",
       " {'name': 'муравей', 'md': 0.02, 'Ihi': 315, 'Fhi': 2, 'Igr': 80, 'Fgr': 0.5, 'note': 'м'},\n",
       " {'name': 'свеча', 'md': 0.08, 'Ihi': 290, 'Fhi': 16, 'Igr': 275, 'Fgr': 15, 'note': 'б-0'},\n",
       " {'name': 'искра', 'md': 0.13, 'Ihi': 320, 'Fhi': 20, 'Igr': 265, 'Fgr': 16.5, 'note': '_0'},\n",
       " {'name': 'юнец', 'md': 0.18, 'Ihi': 310, 'Fhi': 32, 'Igr': 280, 'Fgr': 29, 'note': 'б-0'},\n",
       " {'name': 'терьер', 'md': 0.5, 'Ihi': 345, 'Fhi': 60, 'Igr': 85, 'Fgr': 15, 'note': '0-1'},\n",
       " {'name': 'стукач', 'md': 0.9, 'Ihi': 305, 'Fhi': 120, 'Igr': 275, 'Fgr': 108, 'note': 'б-1'},\n",
       " {'name': 'дротик', 'md': 1, 'Ihi': 340, 'Fhi': 180, 'Igr': 290, 'Fgr': 153, 'note': 'п1'},\n",
       " {'name': 'гепард', 'md': 1, 'Ihi': 355, 'Fhi': 125, 'Igr': 150, 'Fgr': 53, 'note': 'п0-1.5'},\n",
       " {'name': 'факел', 'md': 1.25, 'Ihi': 310, 'Fhi': 240, 'Igr': 265, 'Fgr': 205, 'note': '_1'},\n",
       " {'name': 'медведь', 'md': 1.25, 'Ihi': 300, 'Fhi': 260, 'Igr': 285, 'Fgr': 247, 'note': 'п1'},\n",
       " {'name': 'вертляв', 'md': 1.5, 'Ihi': 320, 'Fhi': 215, 'Igr': 250, 'Fgr': 168, 'note': '_1'},\n",
       " {'name': 'скиф', 'md': 1.6, 'Ihi': 330, 'Fhi': 300, 'Igr': 265, 'Fgr': 241, 'note': 'п1-2'},\n",
       " {'name': 'пудель', 'md': 1.75, 'Ihi': 350, 'Fhi': 250, 'Igr': 90, 'Fgr': 64, 'note': '_2'},\n",
       " {'name': 'рысь', 'md': 2, 'Ihi': 310, 'Fhi': 400, 'Igr': 290, 'Fgr': 374, 'note': 'п1.5'},\n",
       " {'name': 'рапира', 'md': 2, 'Ihi': 305, 'Fhi': 180, 'Igr': 275, 'Fgr': 162, 'note': '_1'},\n",
       " {'name': 'шкипер', 'md': 3, 'Ihi': 320, 'Fhi': 650, 'Igr': 280, 'Fgr': 569, 'note': '_2'},\n",
       " {'name': 'волкода', 'md': 3.3, 'Ihi': 380, 'Fhi': 375, 'Igr': 70, 'Fgr': 69, 'note': '0-2'},\n",
       " {'name': 'вектор', 'md': 4, 'Ihi': 315, 'Fhi': 1000, 'Igr': 295, 'Fgr': 936, 'note': 'п1'},\n",
       " {'name': 'мастодо', 'md': 5, 'Ihi': 305, 'Fhi': 1350, 'Igr': 290, 'Fgr': 1283, 'note': 'п1-2'},\n",
       " {'name': 'грохот', 'md': 6, 'Ihi': 310, 'Fhi': 1500, 'Igr': 285, 'Fgr': 1379, 'note': '_2'},\n",
       " {'name': 'носорог', 'md': 9, 'Ihi': 340, 'Fhi': 2000, 'Igr': 205, 'Fgr': 1205, 'note': '_3'},\n",
       " {'name': 'курьер', 'md': 10.5, 'Ihi': 300, 'Fhi': 2000, 'Igr': 280, 'Fgr': 1866, 'note': '2+32'},\n",
       " {'name': 'мамонт', 'md': 15, 'Ihi': 315, 'Fhi': 4000, 'Igr': 295, 'Fgr': 3746, 'note': '_3'}]"
      ]
     },
     "execution_count": 33,
     "metadata": {},
     "output_type": "execute_result"
    }
   ],
   "source": [
    "from math import *\n",
    "\n",
    "eng = [('паук',0.02,290,2,260,1.79,'б-м'),\n",
    "('муравей',0.02,315,2,80,0.5,'м'),\n",
    "('свеча',0.08,290,16,275,15,'б-0'),\n",
    "('искра',0.13,320,20,265,16.5,'_0'),\n",
    "('юнец',0.18,310,32,280,29,'б-0'),\n",
    "('терьер',0.5,345,60,85,15,'0-1'),\n",
    "('стукач',0.9,305,120,275,108,'б-1'),\n",
    "('дротик',1,340,180,290,153,'п1'),\n",
    "('гепард',1,355,125,150,53,'п0-1.5'),\n",
    "('факел',1.25,310,240,265,205,'_1'),\n",
    "('медведь',1.25,300,260,285,247,'п1'),\n",
    "('вертляв',1.5,320,215,250,168,'_1'),\n",
    "('скиф',1.6,330,300,265,241,'п1-2'),\n",
    "('пудель',1.75,350,250,90,64,'_2'),\n",
    "('рысь',2,310,400,290,374,'п1.5'),\n",
    "('рапира',2,305,180,275,162,'_1'),\n",
    "('шкипер',3,320,650,280,569,'_2'),\n",
    "('волкода',3.3,380,375,70,69,'0-2'),\n",
    "('вектор',4,315,1000,295,936,'п1'),\n",
    "('мастодо',5,305,1350,290,1283,'п1-2'),\n",
    "('грохот',6,310,1500,285,1379,'_2'),\n",
    "('носорог',9,340,2000,205,1205,'_3'),\n",
    "('курьер',10.5,300,2000,280,1866,'2+32'),\n",
    "('мамонт',15,315,4000,295,3746,'_3'),\n",
    "]\n",
    "engines = []\n",
    "class Engine:\n",
    "    def __init__(self,name,md,Ihi,Fhi,Igr,Fgr,note):\n",
    "        self.name = name\n",
    "        self.md = md\n",
    "        self.Ihi = Ihi\n",
    "        self.Fhi = Fhi\n",
    "        self.Igr = Igr\n",
    "        self.Fgr = Fgr\n",
    "        self.note = note\n",
    "    def __repr__(self):\n",
    "        return repr(self.__dict__)\n",
    "    def setN(self,n,mp):\n",
    "        self.n = n\n",
    "        self.F = self.Fd*n\n",
    "        self.mdmp = mp+self.md*n\n",
    "    def calcFromA(self,a):\n",
    "        self.m1 = self.F/a\n",
    "        self.mt = (self.m1-self.mdmp)*8/9\n",
    "        self.dv = self.Id*10*log(self.m1/(self.mdmp+self.mt/8))\n",
    "        self.pm = self.dv/self.m1\n",
    "for entry in eng:\n",
    "    assert len(entry)==7\n",
    "    engines.append(Engine(*entry))\n",
    "engines"
   ]
  },
  {
   "cell_type": "code",
   "execution_count": 34,
   "id": "bacterial-cooling",
   "metadata": {},
   "outputs": [],
   "source": [
    "def setIF(h):\n",
    "    for e in engines:\n",
    "        e.Id = e.Ihi*h+e.Igr*(1-h)\n",
    "        e.Fd = e.Fhi*h+e.Fgr*(1-h)\n",
    "setIF(1)"
   ]
  },
  {
   "cell_type": "code",
   "execution_count": 35,
   "id": "convertible-flashing",
   "metadata": {},
   "outputs": [
    {
     "data": {
      "text/plain": [
       "[{'name': 'паук', 'md': 0.02, 'Ihi': 290, 'Fhi': 2, 'Igr': 260, 'Fgr': 1.79, 'note': 'б-м', 'Id': 290, 'Fd': 2.0, 'Nmin': 6},\n",
       " {'name': 'муравей', 'md': 0.02, 'Ihi': 315, 'Fhi': 2, 'Igr': 80, 'Fgr': 0.5, 'note': 'м', 'Id': 315, 'Fd': 2.0, 'Nmin': 6},\n",
       " {'name': 'свеча', 'md': 0.08, 'Ihi': 290, 'Fhi': 16, 'Igr': 275, 'Fgr': 15, 'note': 'б-0', 'Id': 290, 'Fd': 16, 'Nmin': 1},\n",
       " {'name': 'искра', 'md': 0.13, 'Ihi': 320, 'Fhi': 20, 'Igr': 265, 'Fgr': 16.5, 'note': '_0', 'Id': 320, 'Fd': 20.0, 'Nmin': 1},\n",
       " {'name': 'юнец', 'md': 0.18, 'Ihi': 310, 'Fhi': 32, 'Igr': 280, 'Fgr': 29, 'note': 'б-0', 'Id': 310, 'Fd': 32, 'Nmin': 1},\n",
       " {'name': 'терьер', 'md': 0.5, 'Ihi': 345, 'Fhi': 60, 'Igr': 85, 'Fgr': 15, 'note': '0-1', 'Id': 345, 'Fd': 60, 'Nmin': 1},\n",
       " {'name': 'стукач', 'md': 0.9, 'Ihi': 305, 'Fhi': 120, 'Igr': 275, 'Fgr': 108, 'note': 'б-1', 'Id': 305, 'Fd': 120, 'Nmin': 1},\n",
       " {'name': 'дротик', 'md': 1, 'Ihi': 340, 'Fhi': 180, 'Igr': 290, 'Fgr': 153, 'note': 'п1', 'Id': 340, 'Fd': 180, 'Nmin': 1},\n",
       " {'name': 'гепард', 'md': 1, 'Ihi': 355, 'Fhi': 125, 'Igr': 150, 'Fgr': 53, 'note': 'п0-1.5', 'Id': 355, 'Fd': 125, 'Nmin': 1},\n",
       " {'name': 'факел', 'md': 1.25, 'Ihi': 310, 'Fhi': 240, 'Igr': 265, 'Fgr': 205, 'note': '_1', 'Id': 310, 'Fd': 240, 'Nmin': 1},\n",
       " {'name': 'медведь', 'md': 1.25, 'Ihi': 300, 'Fhi': 260, 'Igr': 285, 'Fgr': 247, 'note': 'п1', 'Id': 300, 'Fd': 260, 'Nmin': 1},\n",
       " {'name': 'вертляв', 'md': 1.5, 'Ihi': 320, 'Fhi': 215, 'Igr': 250, 'Fgr': 168, 'note': '_1', 'Id': 320, 'Fd': 215, 'Nmin': 1},\n",
       " {'name': 'скиф', 'md': 1.6, 'Ihi': 330, 'Fhi': 300, 'Igr': 265, 'Fgr': 241, 'note': 'п1-2', 'Id': 330, 'Fd': 300, 'Nmin': 1},\n",
       " {'name': 'пудель', 'md': 1.75, 'Ihi': 350, 'Fhi': 250, 'Igr': 90, 'Fgr': 64, 'note': '_2', 'Id': 350, 'Fd': 250, 'Nmin': 1},\n",
       " {'name': 'рысь', 'md': 2, 'Ihi': 310, 'Fhi': 400, 'Igr': 290, 'Fgr': 374, 'note': 'п1.5', 'Id': 310, 'Fd': 400, 'Nmin': 1},\n",
       " {'name': 'рапира', 'md': 2, 'Ihi': 305, 'Fhi': 180, 'Igr': 275, 'Fgr': 162, 'note': '_1', 'Id': 305, 'Fd': 180, 'Nmin': 1},\n",
       " {'name': 'шкипер', 'md': 3, 'Ihi': 320, 'Fhi': 650, 'Igr': 280, 'Fgr': 569, 'note': '_2', 'Id': 320, 'Fd': 650, 'Nmin': 1},\n",
       " {'name': 'волкода', 'md': 3.3, 'Ihi': 380, 'Fhi': 375, 'Igr': 70, 'Fgr': 69, 'note': '0-2', 'Id': 380, 'Fd': 375, 'Nmin': 1},\n",
       " {'name': 'вектор', 'md': 4, 'Ihi': 315, 'Fhi': 1000, 'Igr': 295, 'Fgr': 936, 'note': 'п1', 'Id': 315, 'Fd': 1000, 'Nmin': 1},\n",
       " {'name': 'мастодо', 'md': 5, 'Ihi': 305, 'Fhi': 1350, 'Igr': 290, 'Fgr': 1283, 'note': 'п1-2', 'Id': 305, 'Fd': 1350, 'Nmin': 1},\n",
       " {'name': 'грохот', 'md': 6, 'Ihi': 310, 'Fhi': 1500, 'Igr': 285, 'Fgr': 1379, 'note': '_2', 'Id': 310, 'Fd': 1500, 'Nmin': 1},\n",
       " {'name': 'носорог', 'md': 9, 'Ihi': 340, 'Fhi': 2000, 'Igr': 205, 'Fgr': 1205, 'note': '_3', 'Id': 340, 'Fd': 2000, 'Nmin': 1},\n",
       " {'name': 'курьер', 'md': 10.5, 'Ihi': 300, 'Fhi': 2000, 'Igr': 280, 'Fgr': 1866, 'note': '2+32', 'Id': 300, 'Fd': 2000, 'Nmin': 1},\n",
       " {'name': 'мамонт', 'md': 15, 'Ihi': 315, 'Fhi': 4000, 'Igr': 295, 'Fgr': 3746, 'note': '_3', 'Id': 315, 'Fd': 4000, 'Nmin': 1}]"
      ]
     },
     "execution_count": 35,
     "metadata": {},
     "output_type": "execute_result"
    }
   ],
   "source": [
    "def calcNmin(mp,a):\n",
    "    for e in engines:\n",
    "        e.Nmin =  int(mp*a/(e.Fd-e.md*a))+1\n",
    "calcNmin(1,10)\n",
    "engines"
   ]
  },
  {
   "cell_type": "code",
   "execution_count": 76,
   "id": "present-browser",
   "metadata": {},
   "outputs": [
    {
     "name": "stdout",
     "output_type": "stream",
     "text": [
      "носорог\t_3\t6\t13\t1318.22\t2600.00\t2405\t0.92\n",
      "волкода\t0-2\t30\t70\t1239.11\t2625.00\t2427\t0.92\n",
      "дротик\tп1\t59\t143\t1272.00\t2574.00\t2317\t0.90\n",
      "пудель\t_2\t44\t104\t1260.44\t2600.00\t2321\t0.89\n",
      "гепард\tп0-1.5\t87\t209\t1247.56\t2612.50\t2305\t0.88\n",
      "скиф\tп1-2\t36\t86\t1282.13\t2580.00\t2267\t0.88\n",
      "мамонт\t_3\t3\t6\t1164.44\t2400.00\t2091\t0.87\n",
      "шкипер\t_2\t17\t39\t1260.44\t2535.00\t2200\t0.87\n",
      "вектор\tп1\t11\t26\t1329.78\t2600.00\t2256\t0.87\n",
      "грохот\t_2\t7\t17\t1287.11\t2550.00\t2178\t0.85\n",
      "терьер\t0-1\t182\t437\t1247.56\t2622.00\t2228\t0.85\n",
      "мастодо\tп1-2\t8\t19\t1306.67\t2565.00\t2172\t0.85\n",
      "рысь\tп1.5\t27\t64\t1272.89\t2560.00\t2132\t0.83\n",
      "факел\t_1\t44\t107\t1274.89\t2568.00\t2127\t0.83\n",
      "искра\t_0\t535\t1296\t1265.35\t2592.00\t2143\t0.83\n",
      "юнец\tб-0\t332\t806\t1274.77\t2579.20\t2113\t0.82\n",
      "вертляв\t_1\t51\t121\t1262.22\t2601.50\t2125\t0.82\n",
      "медведь\tп1\t41\t99\t1289.11\t2574.00\t2084\t0.81\n",
      "курьер\t2+32\t6\t13\t1300.89\t2600.00\t2081\t0.80\n",
      "свеча\tб-0\t658\t1605\t1279.64\t2568.00\t2000\t0.78\n",
      "стукач\tб-1\t91\t217\t1252.18\t2604.00\t2000\t0.77\n",
      "муравей\tм\t5556\t13277\t1235.43\t2655.40\t1972\t0.74\n",
      "рапира\t_1\t63\t149\t1230.22\t2682.00\t1872\t0.70\n",
      "паук\tб-м\t5556\t13277\t1235.43\t2655.40\t1815\t0.68\n"
     ]
    }
   ],
   "source": [
    "def calcNopt(mp,a):\n",
    "    for e in engines:\n",
    "        n=e.Nmin\n",
    "        pm = 0\n",
    "        while True:\n",
    "            e.setN(n,mp)\n",
    "            e.calcFromA(a)\n",
    "            if e.pm > pm:\n",
    "                pm = e.pm\n",
    "            else:\n",
    "                e.Nopt = n-1\n",
    "                e.setN(n-1,mp)\n",
    "                e.calcFromA(a)\n",
    "                break\n",
    "            n+=1\n",
    "mp = 1000\n",
    "calcNmin(mp,10.)        \n",
    "calcNopt(mp,10.)\n",
    "engines.sort(key=lambda e: -e.pm)\n",
    "for e in engines:\n",
    "    print('{}\\t{}\\t{}\\t{}\\t{:.2f}\\t{:.2f}\\t{:.0f}\\t{:.2f}'.format(\n",
    "        e.name,e.note,e.Nmin,e.Nopt,e.mt,e.m1,e.dv,e.pm))"
   ]
  },
  {
   "cell_type": "code",
   "execution_count": null,
   "id": "invalid-europe",
   "metadata": {},
   "outputs": [],
   "source": [
    "1\n",
    "искра\t_0\t1\t1\t0.77\t2.00\t1564\t782.15\n",
    "терьер\t0-1\t1\t1\t3.11\t6.00\t2522\t420.26\n",
    "дротик\tп1\t1\t1\t9.78\t18.00\t2664\t148.00\n",
    "дротик\tп1\t2\t3\t29.33\t54.00\t2664\t49.33\n",
    "волкода\t0-2\t2\t4\t73.60\t150.00\t2564\t17.09\n",
    "носорог\t_3\t1\t2\t206.22\t400.00\t2464\t6.16\n",
    "носорог\t_3\t3\t5\t493.33\t1000.00\t2312\t2.31\n",
    "                                    16754"
   ]
  },
  {
   "cell_type": "code",
   "execution_count": null,
   "id": "numeric-tradition",
   "metadata": {},
   "outputs": [],
   "source": []
  }
 ],
 "metadata": {
  "kernelspec": {
   "display_name": "Python 3",
   "language": "python",
   "name": "python3"
  },
  "language_info": {
   "codemirror_mode": {
    "name": "ipython",
    "version": 3
   },
   "file_extension": ".py",
   "mimetype": "text/x-python",
   "name": "python",
   "nbconvert_exporter": "python",
   "pygments_lexer": "ipython3",
   "version": "3.8.5"
  }
 },
 "nbformat": 4,
 "nbformat_minor": 5
}
