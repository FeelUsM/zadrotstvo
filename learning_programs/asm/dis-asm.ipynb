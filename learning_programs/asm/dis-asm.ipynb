{
 "cells": [
  {
   "cell_type": "code",
   "execution_count": 4,
   "metadata": {
    "ExecuteTime": {
     "end_time": "2020-03-08T09:58:45.862954Z",
     "start_time": "2020-03-08T09:58:45.812951Z"
    }
   },
   "outputs": [],
   "source": [
    "import re\n",
    "\n",
    "def decode_arg(input,format=\"r/rm32\"):\n",
    "    # formats: r/rmXX n/rmXX s/rmXX\n",
    "    # XX=8,16,32,64\n",
    "    assert re.match(r'[nrs]/rm(8|16|32|64)',format)\n",
    "    r_f = format[0]\n",
    "    size_f=int(format[4:])\n",
    "    \n",
    "    nums = []\n",
    "    while len(input)>0 and input[0] not in '0123456789abcdefABCDEF':\n",
    "        assert input[0]==' '\n",
    "        input = input[1:]\n",
    "    if type(input)==str:\n",
    "        while len(input)>0:\n",
    "            s = ''\n",
    "            while len(input)>0 and input[0] in '0123456789abcdefABCDEF':\n",
    "                s+=input[0]\n",
    "                input = input[1:]\n",
    "            nums.append(int(s,16))\n",
    "            while len(input)>0 and input[0] not in '0123456789abcdefABCDEF':\n",
    "                assert input[0]==' '\n",
    "                input = input[1:]\n",
    "    elif type(input)==int:\n",
    "        nums.append(input)\n",
    "    elif type(input)==list:\n",
    "        nums = input\n",
    "    else:\n",
    "        raise Exception()\n",
    "        \n",
    "    assert len(nums)>0\n",
    "    \n",
    "    mod_rm=nums[0]\n",
    "    mod = (mod_rm & 0b11000000)>>6\n",
    "    r = (mod_rm & 0b111000)>>3\n",
    "    m = mod_rm & 0b111\n",
    "    print('mod r m: {:02b} {:03b} {:03b}'.format(mod,r,m))\n",
    "    \n",
    "    reg8 = ['al' ,'cl', 'dl', 'bl', 'ah', 'ch', 'dh', 'bh' ]\n",
    "    reg16 =['ax' ,'cx', 'dx', 'bx', 'sp', 'bp', 'si', 'di' ]\n",
    "    reg32 =['eax','ecx','edx','ebx','esp','ebp','esi','edi']\n",
    "    reg64 =['rax','rcx','rdx','rbx','rsp','rbp','rsi','rdi']\n",
    "    reg_s =['es' ,'cs' ,'ss' ,'ds' ,'fs' ,'gs' ,None ,None ]\n",
    "    \n",
    "    #r\n",
    "    if r_f=='r':\n",
    "        if   size_f == 8 : r = reg8 [r]\n",
    "        elif size_f == 16: r = reg16[r]\n",
    "        elif size_f == 32: r = reg32[r]\n",
    "        elif size_f == 64: r = reg64[r]\n",
    "    elif r_f=='s': r = reg_s[r]\n",
    "    # else nothing\n",
    "    \n",
    "    #mm\n",
    "    if mod==0b11:\n",
    "        if   size_f == 8 : mm = reg8 [m]\n",
    "        elif size_f == 16: mm = reg16[m]\n",
    "        elif size_f == 32: mm = reg32[m]\n",
    "        elif size_f == 64: mm = reg64[m]\n",
    "    elif mod==0b00:\n",
    "        #rs # reg of seg\n",
    "        #nt # nums tail\n",
    "        if m==0b100: #<sib>\n",
    "            if len(nums)<2: raise Exception('need <sib> byte')\n",
    "            sib = nums[1]\n",
    "            s = (sib & 0b11000000)>>6\n",
    "            i = (sib & 0b111000)>>3\n",
    "            b = sib & 0b111\n",
    "            print('  s i b: {:02b} {:03b} {:03b}'.format(s,i,b))\n",
    "            if b==0b101:\n",
    "                return None\n",
    "            rs = 'ss' if b==0b100 else 'ds' #???????????????\n",
    "            nt=2\n",
    "            mm = reg32[b]\n",
    "            if i!=0b100:\n",
    "                s = '*'+str(2**s)\n",
    "                if s=='*1': s=''\n",
    "                mm+='+'+reg32[i]+s\n",
    "        elif m==0b101: \n",
    "            nt=1\n",
    "            mm=''\n",
    "            for k in range(4):\n",
    "                if nt+k<len(nums):\n",
    "                    mm = \"{:02x}\".format(nums[nt+k])+mm\n",
    "                else:\n",
    "                    mm = 'x'+str(nt+k-len(nums))+mm\n",
    "            nt+=4\n",
    "            rs = 'ds'\n",
    "        else:\n",
    "            nt=1\n",
    "            rs = 'ds'\n",
    "            mm=reg32[m]\n",
    "        mm = rs+'['+mm+']'\n",
    "        \n",
    "    else:\n",
    "        #rs # reg of seg\n",
    "        #nt # nums tail\n",
    "        if m==0b100: #<sib>\n",
    "            if len(nums)<2: raise Exception('need <sib> byte')\n",
    "            sib = nums[1]\n",
    "            s = (sib & 0b11000000)>>6\n",
    "            i = (sib & 0b111000)>>3\n",
    "            b = sib & 0b111\n",
    "            print('  s i b: {:02b} {:03b} {:03b}'.format(s,i,b))\n",
    "            rs = 'ss' if b==0b100 or b==0b101 else 'ds' #???????????????\n",
    "            nt=2\n",
    "            mm = reg32[b]\n",
    "            if i!=0b100:\n",
    "                s = '*'+str(2**s)\n",
    "                if s=='*1': s=''\n",
    "                mm+='+'+reg32[i]+s\n",
    "            else: return None\n",
    "        else:\n",
    "            nt=1\n",
    "            rs = 'ss' if m==0b101 else 'ds'\n",
    "            mm=reg32[m]\n",
    "            \n",
    "        tmp=''\n",
    "        l = 1 if mod==0b01 else 4\n",
    "        for k in range(l):\n",
    "            if nt+k<len(nums):\n",
    "                tmp = \"{:02x}\".format(nums[nt+k])+tmp\n",
    "            else:\n",
    "                tmp = 'x'+str(nt+k-len(nums))+tmp\n",
    "        nt+=4\n",
    "        mm = rs+'['+mm+('+'+tmp)+']'\n",
    "        \n",
    "    return (r,mm,nt-len(nums))\n",
    "    "
   ]
  },
  {
   "cell_type": "code",
   "execution_count": 5,
   "metadata": {
    "ExecuteTime": {
     "end_time": "2020-03-08T09:58:46.438986Z",
     "start_time": "2020-03-08T09:58:46.417985Z"
    }
   },
   "outputs": [
    {
     "name": "stdout",
     "output_type": "stream",
     "text": [
      "mod r m: 01 001 100\n",
      "  s i b: 10 000 101\n"
     ]
    },
    {
     "data": {
      "text/plain": [
       "(1, 'ss[ebp+eax*4+x0]', 4)"
      ]
     },
     "execution_count": 5,
     "metadata": {},
     "output_type": "execute_result"
    }
   ],
   "source": [
    "decode_arg('4c 85','n/rm32')"
   ]
  },
  {
   "cell_type": "code",
   "execution_count": 90,
   "metadata": {
    "ExecuteTime": {
     "end_time": "2020-02-28T20:32:39.763979Z",
     "start_time": "2020-02-28T20:32:39.752978Z"
    }
   },
   "outputs": [
    {
     "name": "stdout",
     "output_type": "stream",
     "text": [
      "mod r m: 00 000 100\n",
      "  s i b: 00 100 100\n"
     ]
    },
    {
     "data": {
      "text/plain": [
       "(0, 'ss[esp]', 0)"
      ]
     },
     "execution_count": 90,
     "metadata": {},
     "output_type": "execute_result"
    }
   ],
   "source": [
    "decode_arg('04 24','n/rm32')"
   ]
  },
  {
   "cell_type": "code",
   "execution_count": 84,
   "metadata": {
    "ExecuteTime": {
     "end_time": "2020-02-28T18:21:32.544569Z",
     "start_time": "2020-02-28T18:21:32.533568Z"
    }
   },
   "outputs": [
    {
     "name": "stdout",
     "output_type": "stream",
     "text": [
      "mod r m: 10 100 001\n"
     ]
    },
    {
     "data": {
      "text/plain": [
       "(4, 'ds[ecx+00000001]', 0)"
      ]
     },
     "execution_count": 84,
     "metadata": {},
     "output_type": "execute_result"
    }
   ],
   "source": [
    "decode_arg('a1 01 00 00 00','n/rm32')"
   ]
  },
  {
   "cell_type": "code",
   "execution_count": 85,
   "metadata": {
    "ExecuteTime": {
     "end_time": "2020-02-28T18:21:39.149947Z",
     "start_time": "2020-02-28T18:21:39.139946Z"
    }
   },
   "outputs": [
    {
     "name": "stdout",
     "output_type": "stream",
     "text": [
      "mod r m: 01 000 101\n"
     ]
    },
    {
     "data": {
      "text/plain": [
       "(0, 'ss[ebp+03]', 0)"
      ]
     },
     "execution_count": 85,
     "metadata": {},
     "output_type": "execute_result"
    }
   ],
   "source": [
    "decode_arg('45 03 00 00 00','n/rm32')"
   ]
  },
  {
   "cell_type": "code",
   "execution_count": 9,
   "metadata": {
    "ExecuteTime": {
     "end_time": "2020-02-29T10:39:35.160892Z",
     "start_time": "2020-02-29T10:39:35.152891Z"
    }
   },
   "outputs": [
    {
     "data": {
      "text/plain": [
       "'0x1ed04b1'"
      ]
     },
     "execution_count": 9,
     "metadata": {},
     "output_type": "execute_result"
    }
   ],
   "source": [
    "hex(0x7710C1E1^0x76FDC550)"
   ]
  },
  {
   "cell_type": "markdown",
   "metadata": {},
   "source": [
    "# Introduction to the DWARF Debugging Format"
   ]
  },
  {
   "cell_type": "markdown",
   "metadata": {},
   "source": [
    "It would be wonderful  if we could write\n",
    "programs   that   were   guaranteed   to   work\n",
    "correctly and never needed to be debugged.\n",
    "Until   that   halcyon   day,   the   normal   programming cycle is going to involve writing\n",
    "a program, compiling it, executing it, and\n",
    "then  the  (somewhat)  dreaded  scourge  of\n",
    "debugging it. And then repeat until the program works as expected. \n",
    "\n",
    "It is possible to debug programs by inserting code that prints values of selected\n",
    "interesting variables. Indeed, in some situations, such as debugging kernel drivers, this\n",
    "may   be  the   preferred   method.   There   are\n",
    "low­level debuggers that allow you to step\n",
    "through   the   executable   program,   instruction by instruction, displaying registers and\n",
    "memory contents in binary. \n",
    "\n",
    "But it is much easier to use a source­level   debugger   which   allows   you   to   step\n",
    "through   a   program's   source,   set   breakpoints, print variable values, and perhaps a\n",
    "few other functions such as allowing you to\n",
    "call a function in your program while in the\n",
    "debugger. The problem is how to coordinate   two   completely   different   programs,\n",
    "the compiler and the debugger, so that the\n",
    "program can be debugged. \n"
   ]
  },
  {
   "cell_type": "markdown",
   "metadata": {},
   "source": [
    "## Translating from Source to Executable"
   ]
  },
  {
   "cell_type": "markdown",
   "metadata": {},
   "source": [
    "The   process   of   compiling   a   program\n",
    "from human­readable form into the binary form that a processor executes is quite\n",
    "complex, but it essentially involves successively recasting the source into simpler and\n",
    "simpler   forms,   discarding   information   at\n",
    "each step until, eventually, the result is the\n",
    "sequence   of   simple   operations,   registers,\n",
    "memory   addresses,   and   binary   values\n",
    "which the processor actually understands.\n",
    "After all, the processor really doesn't care\n",
    "whether you used object oriented programming, templates, or smart pointers; it only\n",
    "understands a very simple set of operations\n",
    "on a limited number of registers and memory locations containing binary values. \n",
    "\n",
    "As   a   compiler   reads   and   parses   the\n",
    "source of a program, it collects a variety of\n",
    "information about the program, such as the\n",
    "line numbers where a variable or function\n",
    "is declared or used. Semantic analysis extends this information to fill in details such\n",
    "as the types of variables and arguments of\n",
    "functions. Optimizations may move parts of\n",
    "the   program   around,   combine   similar\n",
    "pieces, expand inline functions, or remove\n",
    "parts   which   are   unneeded.   Finally,   code\n",
    "generation   takes   this   internal   representation of the program and generates the actual machine instructions. Often, there is another pass over the machine code to perform what are called \"peephole\" optimizations that may further rearrange or modify\n",
    "the code, for example, to eliminate duplicate instructions. \n",
    "\n",
    "All­in­all, the compiler's task is to take\n",
    "the well­crafted and understandable source\n",
    "code and convert it into efficient but essentially unintelligible machine language. The\n",
    "better the compiler achieves the goal of creating tight and fast code, the more likely it\n",
    "is that the result will be difficult to understand. \n",
    "\n",
    "During   this   translation   process,   the\n",
    "compiler   collects   information   about   the\n",
    "program which will be useful later when\n",
    "the  program  is debugged.  There   are two\n",
    "challenges to doing this well. The first is\n",
    "that in the later parts of this process, it may\n",
    "be difficult for the compiler to relate the\n",
    "changes it is making to the program to the\n",
    "original source code that the programmer\n",
    "wrote. For example, the peephole optimizer\n",
    "may remove an instruction because it was\n",
    "able to switch around the order of a test in\n",
    "code that was generated by an inline function in the instantiation of a C++ template.\n",
    "By the time it gets its metaphorical hands\n",
    "on the program, the optimizer may have a\n",
    "difficult time connecting its manipulations\n",
    "of   low­level   code   to   the   original   source\n",
    "which generated it.  \n",
    "\n",
    "The second challenge is how to describe\n",
    "the executable program and its relationship\n",
    "to the original source with enough detail to\n",
    "allow a debugger to provide the programmer useful information. At the same time,\n",
    "the description has to be concise enough so\n",
    "that it does not take up an extreme amount\n",
    "of   space   or   require   significant   processor\n",
    "time to interpret. This is where the DWARF\n",
    "Debugging Format comes in: it is a compact\n",
    "representation of the relationship between\n",
    "the executable program and the source in a\n",
    "way that is reasonably efficient for a debugger to process. "
   ]
  },
  {
   "cell_type": "markdown",
   "metadata": {},
   "source": [
    "## The Debugging Process\n"
   ]
  },
  {
   "cell_type": "markdown",
   "metadata": {},
   "source": []
  },
  {
   "cell_type": "markdown",
   "metadata": {},
   "source": []
  }
 ],
 "metadata": {
  "hide_input": false,
  "kernelspec": {
   "display_name": "Python 3",
   "language": "python",
   "name": "python3"
  },
  "language_info": {
   "codemirror_mode": {
    "name": "ipython",
    "version": 3
   },
   "file_extension": ".py",
   "mimetype": "text/x-python",
   "name": "python",
   "nbconvert_exporter": "python",
   "pygments_lexer": "ipython3",
   "version": "3.6.7"
  }
 },
 "nbformat": 4,
 "nbformat_minor": 2
}
